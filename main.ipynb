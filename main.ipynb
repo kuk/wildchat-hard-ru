{
 "cells": [
  {
   "cell_type": "code",
   "execution_count": 1,
   "id": "8be3dcd2",
   "metadata": {},
   "outputs": [
    {
     "name": "stderr",
     "output_type": "stream",
     "text": [
      "/Users/alexkuk/proj/wildchat-hard-ru/.venv/lib/python3.12/site-packages/tqdm/auto.py:21: TqdmWarning: IProgress not found. Please update jupyter and ipywidgets. See https://ipywidgets.readthedocs.io/en/stable/user_install.html\n",
      "  from .autonotebook import tqdm as notebook_tqdm\n"
     ]
    }
   ],
   "source": [
    "%run -n main.py\n",
    "load_dotenv(\".envrc\", override=True)\n",
    "assert \"OPENROUTER_API_KEY\" in os.environ\n",
    "assert \"OPENAI_API_KEY\" in os.environ"
   ]
  },
  {
   "cell_type": "code",
   "execution_count": 2,
   "id": "91c38ace",
   "metadata": {},
   "outputs": [
    {
     "name": "stderr",
     "output_type": "stream",
     "text": [
      "2025-04-28 15:30:21 Update model pricing\n",
      "2025-04-28 15:30:22 Update rate limit\n",
      "2025-04-28 15:30:23 Rate limit reqs / sec = 590 / 10\n"
     ]
    }
   ],
   "source": [
    "%run -n main.py\n",
    "api_key = os.getenv(\"OPENROUTER_API_KEY\")\n",
    "openrouter_client = OpenrouterClient(api_key=api_key)\n",
    "\n",
    "logger.info(\"Update model pricing\")\n",
    "await openrouter_client.update_model_pricing()\n",
    "\n",
    "logger.info(\"Update rate limit\")\n",
    "await openrouter_client.update_rate_limit()\n",
    "logger.info(\"Rate limit reqs / sec = %d / %d\", openrouter_client.rate_limiter.max_requests, openrouter_client.rate_limiter.time_window)"
   ]
  },
  {
   "cell_type": "code",
   "execution_count": 4,
   "id": "a1f09643",
   "metadata": {},
   "outputs": [
    {
     "data": {
      "text/plain": [
       "'zu3YPGMD4TtbUNm8NixnPfBl4TwIGQA8pkwKvRSSNj0N10s81TVmPWkK/7yrClY8BtiQvQkRHb2/0Bs9Net3vLwCirx/nla8xI7n'"
      ]
     },
     "execution_count": 4,
     "metadata": {},
     "output_type": "execute_result"
    }
   ],
   "source": [
    "%run -n main.py\n",
    "api_key = os.getenv(\"OPENAI_API_KEY\")\n",
    "openai_emb_client = OpenaiEmbClient(api_key)\n",
    "response = await openai_emb_client.embeddings([\"xxx\"], input_tokens=1)\n",
    "response[\"data\"][0][\"embedding\"][:100]"
   ]
  },
  {
   "cell_type": "code",
   "execution_count": 5,
   "id": "756a56de",
   "metadata": {
    "scrolled": true
   },
   "outputs": [
    {
     "data": {
      "text/html": [
       "    <style>\n",
       "        .bk-notebook-logo {\n",
       "            display: block;\n",
       "            width: 20px;\n",
       "            height: 20px;\n",
       "            background-image: url(data:image/png;base64,iVBORw0KGgoAAAANSUhEUgAAABQAAAAUCAYAAACNiR0NAAAABHNCSVQICAgIfAhkiAAAAAlwSFlzAAALEgAACxIB0t1+/AAAABx0RVh0U29mdHdhcmUAQWRvYmUgRmlyZXdvcmtzIENTNui8sowAAAOkSURBVDiNjZRtaJVlGMd/1/08zzln5zjP1LWcU9N0NkN8m2CYjpgQYQXqSs0I84OLIC0hkEKoPtiH3gmKoiJDU7QpLgoLjLIQCpEsNJ1vqUOdO7ppbuec5+V+rj4ctwzd8IIbbi6u+8f1539dt3A78eXC7QizUF7gyV1fD1Yqg4JWz84yffhm0qkFqBogB9rM8tZdtwVsPUhWhGcFJngGeWrPzHm5oaMmkfEg1usvLFyc8jLRqDOMru7AyC8saQr7GG7f5fvDeH7Ej8CM66nIF+8yngt6HWaKh7k49Soy9nXurCi1o3qUbS3zWfrYeQDTB/Qj6kX6Ybhw4B+bOYoLKCC9H3Nu/leUTZ1JdRWkkn2ldcCamzrcf47KKXdAJllSlxAOkRgyHsGC/zRday5Qld9DyoM4/q/rUoy/CXh3jzOu3bHUVZeU+DEn8FInkPBFlu3+nW3Nw0mk6vCDiWg8CeJaxEwuHS3+z5RgY+YBR6V1Z1nxSOfoaPa4LASWxxdNp+VWTk7+4vzaou8v8PN+xo+KY2xsw6une2frhw05CTYOmQvsEhjhWjn0bmXPjpE1+kplmmkP3suftwTubK9Vq22qKmrBhpY4jvd5afdRA3wGjFAgcnTK2s4hY0/GPNIb0nErGMCRxWOOX64Z8RAC4oCXdklmEvcL8o0BfkNK4lUg9HTl+oPlQxdNo3Mg4Nv175e/1LDGzZen30MEjRUtmXSfiTVu1kK8W4txyV6BMKlbgk3lMwYCiusNy9fVfvvwMxv8Ynl6vxoByANLTWplvuj/nF9m2+PDtt1eiHPBr1oIfhCChQMBw6Aw0UulqTKZdfVvfG7VcfIqLG9bcldL/+pdWTLxLUy8Qq38heUIjh4XlzZxzQm19lLFlr8vdQ97rjZVOLf8nclzckbcD4wxXMidpX30sFd37Fv/GtwwhzhxGVAprjbg0gCAEeIgwCZyTV2Z1REEW8O4py0wsjeloKoMr6iCY6dP92H6Vw/oTyICIthibxjm/DfN9lVz8IqtqKYLUXfoKVMVQVVJOElGjrnnUt9T9wbgp8AyYKaGlqingHZU/uG2NTZSVqwHQTWkx9hxjkpWDaCg6Ckj5qebgBVbT3V3NNXMSiWSDdGV3hrtzla7J+duwPOToIg42ChPQOQjspnSlp1V+Gjdged7+8UN5CRAV7a5EdFNwCjEaBR27b3W890TE7g24NAP/mMDXRWrGoFPQI9ls/MWO2dWFAar/xcOIImbbpA3zgAAAABJRU5ErkJggg==);\n",
       "        }\n",
       "    </style>\n",
       "    <div>\n",
       "        <a href=\"https://bokeh.org\" target=\"_blank\" class=\"bk-notebook-logo\"></a>\n",
       "        <span id=\"a58d114c-9502-400f-a779-12c2fc04138f\">Loading BokehJS ...</span>\n",
       "    </div>\n"
      ]
     },
     "metadata": {},
     "output_type": "display_data"
    },
    {
     "data": {
      "application/javascript": [
       "'use strict';\n",
       "(function(root) {\n",
       "  function now() {\n",
       "    return new Date();\n",
       "  }\n",
       "\n",
       "  const force = true;\n",
       "\n",
       "  if (typeof root._bokeh_onload_callbacks === \"undefined\" || force === true) {\n",
       "    root._bokeh_onload_callbacks = [];\n",
       "    root._bokeh_is_loading = undefined;\n",
       "  }\n",
       "\n",
       "const JS_MIME_TYPE = 'application/javascript';\n",
       "  const HTML_MIME_TYPE = 'text/html';\n",
       "  const EXEC_MIME_TYPE = 'application/vnd.bokehjs_exec.v0+json';\n",
       "  const CLASS_NAME = 'output_bokeh rendered_html';\n",
       "\n",
       "  /**\n",
       "   * Render data to the DOM node\n",
       "   */\n",
       "  function render(props, node) {\n",
       "    const script = document.createElement(\"script\");\n",
       "    node.appendChild(script);\n",
       "  }\n",
       "\n",
       "  /**\n",
       "   * Handle when an output is cleared or removed\n",
       "   */\n",
       "  function handleClearOutput(event, handle) {\n",
       "    function drop(id) {\n",
       "      const view = Bokeh.index.get_by_id(id)\n",
       "      if (view != null) {\n",
       "        view.model.document.clear()\n",
       "        Bokeh.index.delete(view)\n",
       "      }\n",
       "    }\n",
       "\n",
       "    const cell = handle.cell;\n",
       "\n",
       "    const id = cell.output_area._bokeh_element_id;\n",
       "    const server_id = cell.output_area._bokeh_server_id;\n",
       "\n",
       "    // Clean up Bokeh references\n",
       "    if (id != null) {\n",
       "      drop(id)\n",
       "    }\n",
       "\n",
       "    if (server_id !== undefined) {\n",
       "      // Clean up Bokeh references\n",
       "      const cmd_clean = \"from bokeh.io.state import curstate; print(curstate().uuid_to_server['\" + server_id + \"'].get_sessions()[0].document.roots[0]._id)\";\n",
       "      cell.notebook.kernel.execute(cmd_clean, {\n",
       "        iopub: {\n",
       "          output: function(msg) {\n",
       "            const id = msg.content.text.trim()\n",
       "            drop(id)\n",
       "          }\n",
       "        }\n",
       "      });\n",
       "      // Destroy server and session\n",
       "      const cmd_destroy = \"import bokeh.io.notebook as ion; ion.destroy_server('\" + server_id + \"')\";\n",
       "      cell.notebook.kernel.execute(cmd_destroy);\n",
       "    }\n",
       "  }\n",
       "\n",
       "  /**\n",
       "   * Handle when a new output is added\n",
       "   */\n",
       "  function handleAddOutput(event, handle) {\n",
       "    const output_area = handle.output_area;\n",
       "    const output = handle.output;\n",
       "\n",
       "    // limit handleAddOutput to display_data with EXEC_MIME_TYPE content only\n",
       "    if ((output.output_type != \"display_data\") || (!Object.prototype.hasOwnProperty.call(output.data, EXEC_MIME_TYPE))) {\n",
       "      return\n",
       "    }\n",
       "\n",
       "    const toinsert = output_area.element.find(\".\" + CLASS_NAME.split(' ')[0]);\n",
       "\n",
       "    if (output.metadata[EXEC_MIME_TYPE][\"id\"] !== undefined) {\n",
       "      toinsert[toinsert.length - 1].firstChild.textContent = output.data[JS_MIME_TYPE];\n",
       "      // store reference to embed id on output_area\n",
       "      output_area._bokeh_element_id = output.metadata[EXEC_MIME_TYPE][\"id\"];\n",
       "    }\n",
       "    if (output.metadata[EXEC_MIME_TYPE][\"server_id\"] !== undefined) {\n",
       "      const bk_div = document.createElement(\"div\");\n",
       "      bk_div.innerHTML = output.data[HTML_MIME_TYPE];\n",
       "      const script_attrs = bk_div.children[0].attributes;\n",
       "      for (let i = 0; i < script_attrs.length; i++) {\n",
       "        toinsert[toinsert.length - 1].firstChild.setAttribute(script_attrs[i].name, script_attrs[i].value);\n",
       "        toinsert[toinsert.length - 1].firstChild.textContent = bk_div.children[0].textContent\n",
       "      }\n",
       "      // store reference to server id on output_area\n",
       "      output_area._bokeh_server_id = output.metadata[EXEC_MIME_TYPE][\"server_id\"];\n",
       "    }\n",
       "  }\n",
       "\n",
       "  function register_renderer(events, OutputArea) {\n",
       "\n",
       "    function append_mime(data, metadata, element) {\n",
       "      // create a DOM node to render to\n",
       "      const toinsert = this.create_output_subarea(\n",
       "        metadata,\n",
       "        CLASS_NAME,\n",
       "        EXEC_MIME_TYPE\n",
       "      );\n",
       "      this.keyboard_manager.register_events(toinsert);\n",
       "      // Render to node\n",
       "      const props = {data: data, metadata: metadata[EXEC_MIME_TYPE]};\n",
       "      render(props, toinsert[toinsert.length - 1]);\n",
       "      element.append(toinsert);\n",
       "      return toinsert\n",
       "    }\n",
       "\n",
       "    /* Handle when an output is cleared or removed */\n",
       "    events.on('clear_output.CodeCell', handleClearOutput);\n",
       "    events.on('delete.Cell', handleClearOutput);\n",
       "\n",
       "    /* Handle when a new output is added */\n",
       "    events.on('output_added.OutputArea', handleAddOutput);\n",
       "\n",
       "    /**\n",
       "     * Register the mime type and append_mime function with output_area\n",
       "     */\n",
       "    OutputArea.prototype.register_mime_type(EXEC_MIME_TYPE, append_mime, {\n",
       "      /* Is output safe? */\n",
       "      safe: true,\n",
       "      /* Index of renderer in `output_area.display_order` */\n",
       "      index: 0\n",
       "    });\n",
       "  }\n",
       "\n",
       "  // register the mime type if in Jupyter Notebook environment and previously unregistered\n",
       "  if (root.Jupyter !== undefined) {\n",
       "    const events = require('base/js/events');\n",
       "    const OutputArea = require('notebook/js/outputarea').OutputArea;\n",
       "\n",
       "    if (OutputArea.prototype.mime_types().indexOf(EXEC_MIME_TYPE) == -1) {\n",
       "      register_renderer(events, OutputArea);\n",
       "    }\n",
       "  }\n",
       "  if (typeof (root._bokeh_timeout) === \"undefined\" || force === true) {\n",
       "    root._bokeh_timeout = Date.now() + 5000;\n",
       "    root._bokeh_failed_load = false;\n",
       "  }\n",
       "\n",
       "  const NB_LOAD_WARNING = {'data': {'text/html':\n",
       "     \"<div style='background-color: #fdd'>\\n\"+\n",
       "     \"<p>\\n\"+\n",
       "     \"BokehJS does not appear to have successfully loaded. If loading BokehJS from CDN, this \\n\"+\n",
       "     \"may be due to a slow or bad network connection. Possible fixes:\\n\"+\n",
       "     \"</p>\\n\"+\n",
       "     \"<ul>\\n\"+\n",
       "     \"<li>re-rerun `output_notebook()` to attempt to load from CDN again, or</li>\\n\"+\n",
       "     \"<li>use INLINE resources instead, as so:</li>\\n\"+\n",
       "     \"</ul>\\n\"+\n",
       "     \"<code>\\n\"+\n",
       "     \"from bokeh.resources import INLINE\\n\"+\n",
       "     \"output_notebook(resources=INLINE)\\n\"+\n",
       "     \"</code>\\n\"+\n",
       "     \"</div>\"}};\n",
       "\n",
       "  function display_loaded(error = null) {\n",
       "    const el = document.getElementById(\"a58d114c-9502-400f-a779-12c2fc04138f\");\n",
       "    if (el != null) {\n",
       "      const html = (() => {\n",
       "        if (typeof root.Bokeh === \"undefined\") {\n",
       "          if (error == null) {\n",
       "            return \"BokehJS is loading ...\";\n",
       "          } else {\n",
       "            return \"BokehJS failed to load.\";\n",
       "          }\n",
       "        } else {\n",
       "          const prefix = `BokehJS ${root.Bokeh.version}`;\n",
       "          if (error == null) {\n",
       "            return `${prefix} successfully loaded.`;\n",
       "          } else {\n",
       "            return `${prefix} <b>encountered errors</b> while loading and may not function as expected.`;\n",
       "          }\n",
       "        }\n",
       "      })();\n",
       "      el.innerHTML = html;\n",
       "\n",
       "      if (error != null) {\n",
       "        const wrapper = document.createElement(\"div\");\n",
       "        wrapper.style.overflow = \"auto\";\n",
       "        wrapper.style.height = \"5em\";\n",
       "        wrapper.style.resize = \"vertical\";\n",
       "        const content = document.createElement(\"div\");\n",
       "        content.style.fontFamily = \"monospace\";\n",
       "        content.style.whiteSpace = \"pre-wrap\";\n",
       "        content.style.backgroundColor = \"rgb(255, 221, 221)\";\n",
       "        content.textContent = error.stack ?? error.toString();\n",
       "        wrapper.append(content);\n",
       "        el.append(wrapper);\n",
       "      }\n",
       "    } else if (Date.now() < root._bokeh_timeout) {\n",
       "      setTimeout(() => display_loaded(error), 100);\n",
       "    }\n",
       "  }\n",
       "\n",
       "  function run_callbacks() {\n",
       "    try {\n",
       "      root._bokeh_onload_callbacks.forEach(function(callback) {\n",
       "        if (callback != null)\n",
       "          callback();\n",
       "      });\n",
       "    } finally {\n",
       "      delete root._bokeh_onload_callbacks\n",
       "    }\n",
       "    console.debug(\"Bokeh: all callbacks have finished\");\n",
       "  }\n",
       "\n",
       "  function load_libs(css_urls, js_urls, callback) {\n",
       "    if (css_urls == null) css_urls = [];\n",
       "    if (js_urls == null) js_urls = [];\n",
       "\n",
       "    root._bokeh_onload_callbacks.push(callback);\n",
       "    if (root._bokeh_is_loading > 0) {\n",
       "      console.debug(\"Bokeh: BokehJS is being loaded, scheduling callback at\", now());\n",
       "      return null;\n",
       "    }\n",
       "    if (js_urls == null || js_urls.length === 0) {\n",
       "      run_callbacks();\n",
       "      return null;\n",
       "    }\n",
       "    console.debug(\"Bokeh: BokehJS not loaded, scheduling load and callback at\", now());\n",
       "    root._bokeh_is_loading = css_urls.length + js_urls.length;\n",
       "\n",
       "    function on_load() {\n",
       "      root._bokeh_is_loading--;\n",
       "      if (root._bokeh_is_loading === 0) {\n",
       "        console.debug(\"Bokeh: all BokehJS libraries/stylesheets loaded\");\n",
       "        run_callbacks()\n",
       "      }\n",
       "    }\n",
       "\n",
       "    function on_error(url) {\n",
       "      console.error(\"failed to load \" + url);\n",
       "    }\n",
       "\n",
       "    for (let i = 0; i < css_urls.length; i++) {\n",
       "      const url = css_urls[i];\n",
       "      const element = document.createElement(\"link\");\n",
       "      element.onload = on_load;\n",
       "      element.onerror = on_error.bind(null, url);\n",
       "      element.rel = \"stylesheet\";\n",
       "      element.type = \"text/css\";\n",
       "      element.href = url;\n",
       "      console.debug(\"Bokeh: injecting link tag for BokehJS stylesheet: \", url);\n",
       "      document.body.appendChild(element);\n",
       "    }\n",
       "\n",
       "    for (let i = 0; i < js_urls.length; i++) {\n",
       "      const url = js_urls[i];\n",
       "      const element = document.createElement('script');\n",
       "      element.onload = on_load;\n",
       "      element.onerror = on_error.bind(null, url);\n",
       "      element.async = false;\n",
       "      element.src = url;\n",
       "      console.debug(\"Bokeh: injecting script tag for BokehJS library: \", url);\n",
       "      document.head.appendChild(element);\n",
       "    }\n",
       "  };\n",
       "\n",
       "  function inject_raw_css(css) {\n",
       "    const element = document.createElement(\"style\");\n",
       "    element.appendChild(document.createTextNode(css));\n",
       "    document.body.appendChild(element);\n",
       "  }\n",
       "\n",
       "  const js_urls = [\"https://cdn.bokeh.org/bokeh/release/bokeh-3.6.3.min.js\", \"https://cdn.bokeh.org/bokeh/release/bokeh-gl-3.6.3.min.js\", \"https://cdn.bokeh.org/bokeh/release/bokeh-widgets-3.6.3.min.js\", \"https://cdn.bokeh.org/bokeh/release/bokeh-tables-3.6.3.min.js\", \"https://cdn.bokeh.org/bokeh/release/bokeh-mathjax-3.6.3.min.js\"];\n",
       "  const css_urls = [];\n",
       "\n",
       "  const inline_js = [    function(Bokeh) {\n",
       "      Bokeh.set_log_level(\"info\");\n",
       "    },\n",
       "function(Bokeh) {\n",
       "    }\n",
       "  ];\n",
       "\n",
       "  function run_inline_js() {\n",
       "    if (root.Bokeh !== undefined || force === true) {\n",
       "      try {\n",
       "            for (let i = 0; i < inline_js.length; i++) {\n",
       "      inline_js[i].call(root, root.Bokeh);\n",
       "    }\n",
       "\n",
       "      } catch (error) {display_loaded(error);throw error;\n",
       "      }if (force === true) {\n",
       "        display_loaded();\n",
       "      }} else if (Date.now() < root._bokeh_timeout) {\n",
       "      setTimeout(run_inline_js, 100);\n",
       "    } else if (!root._bokeh_failed_load) {\n",
       "      console.log(\"Bokeh: BokehJS failed to load within specified timeout.\");\n",
       "      root._bokeh_failed_load = true;\n",
       "    } else if (force !== true) {\n",
       "      const cell = $(document.getElementById(\"a58d114c-9502-400f-a779-12c2fc04138f\")).parents('.cell').data().cell;\n",
       "      cell.output_area.append_execute_result(NB_LOAD_WARNING)\n",
       "    }\n",
       "  }\n",
       "\n",
       "  if (root._bokeh_is_loading === 0) {\n",
       "    console.debug(\"Bokeh: BokehJS loaded, going straight to plotting\");\n",
       "    run_inline_js();\n",
       "  } else {\n",
       "    load_libs(css_urls, js_urls, function() {\n",
       "      console.debug(\"Bokeh: BokehJS plotting callback run at\", now());\n",
       "      run_inline_js();\n",
       "    });\n",
       "  }\n",
       "}(window));"
      ],
      "application/vnd.bokehjs_load.v0+json": "'use strict';\n(function(root) {\n  function now() {\n    return new Date();\n  }\n\n  const force = true;\n\n  if (typeof root._bokeh_onload_callbacks === \"undefined\" || force === true) {\n    root._bokeh_onload_callbacks = [];\n    root._bokeh_is_loading = undefined;\n  }\n\n\n  if (typeof (root._bokeh_timeout) === \"undefined\" || force === true) {\n    root._bokeh_timeout = Date.now() + 5000;\n    root._bokeh_failed_load = false;\n  }\n\n  const NB_LOAD_WARNING = {'data': {'text/html':\n     \"<div style='background-color: #fdd'>\\n\"+\n     \"<p>\\n\"+\n     \"BokehJS does not appear to have successfully loaded. If loading BokehJS from CDN, this \\n\"+\n     \"may be due to a slow or bad network connection. Possible fixes:\\n\"+\n     \"</p>\\n\"+\n     \"<ul>\\n\"+\n     \"<li>re-rerun `output_notebook()` to attempt to load from CDN again, or</li>\\n\"+\n     \"<li>use INLINE resources instead, as so:</li>\\n\"+\n     \"</ul>\\n\"+\n     \"<code>\\n\"+\n     \"from bokeh.resources import INLINE\\n\"+\n     \"output_notebook(resources=INLINE)\\n\"+\n     \"</code>\\n\"+\n     \"</div>\"}};\n\n  function display_loaded(error = null) {\n    const el = document.getElementById(\"a58d114c-9502-400f-a779-12c2fc04138f\");\n    if (el != null) {\n      const html = (() => {\n        if (typeof root.Bokeh === \"undefined\") {\n          if (error == null) {\n            return \"BokehJS is loading ...\";\n          } else {\n            return \"BokehJS failed to load.\";\n          }\n        } else {\n          const prefix = `BokehJS ${root.Bokeh.version}`;\n          if (error == null) {\n            return `${prefix} successfully loaded.`;\n          } else {\n            return `${prefix} <b>encountered errors</b> while loading and may not function as expected.`;\n          }\n        }\n      })();\n      el.innerHTML = html;\n\n      if (error != null) {\n        const wrapper = document.createElement(\"div\");\n        wrapper.style.overflow = \"auto\";\n        wrapper.style.height = \"5em\";\n        wrapper.style.resize = \"vertical\";\n        const content = document.createElement(\"div\");\n        content.style.fontFamily = \"monospace\";\n        content.style.whiteSpace = \"pre-wrap\";\n        content.style.backgroundColor = \"rgb(255, 221, 221)\";\n        content.textContent = error.stack ?? error.toString();\n        wrapper.append(content);\n        el.append(wrapper);\n      }\n    } else if (Date.now() < root._bokeh_timeout) {\n      setTimeout(() => display_loaded(error), 100);\n    }\n  }\n\n  function run_callbacks() {\n    try {\n      root._bokeh_onload_callbacks.forEach(function(callback) {\n        if (callback != null)\n          callback();\n      });\n    } finally {\n      delete root._bokeh_onload_callbacks\n    }\n    console.debug(\"Bokeh: all callbacks have finished\");\n  }\n\n  function load_libs(css_urls, js_urls, callback) {\n    if (css_urls == null) css_urls = [];\n    if (js_urls == null) js_urls = [];\n\n    root._bokeh_onload_callbacks.push(callback);\n    if (root._bokeh_is_loading > 0) {\n      console.debug(\"Bokeh: BokehJS is being loaded, scheduling callback at\", now());\n      return null;\n    }\n    if (js_urls == null || js_urls.length === 0) {\n      run_callbacks();\n      return null;\n    }\n    console.debug(\"Bokeh: BokehJS not loaded, scheduling load and callback at\", now());\n    root._bokeh_is_loading = css_urls.length + js_urls.length;\n\n    function on_load() {\n      root._bokeh_is_loading--;\n      if (root._bokeh_is_loading === 0) {\n        console.debug(\"Bokeh: all BokehJS libraries/stylesheets loaded\");\n        run_callbacks()\n      }\n    }\n\n    function on_error(url) {\n      console.error(\"failed to load \" + url);\n    }\n\n    for (let i = 0; i < css_urls.length; i++) {\n      const url = css_urls[i];\n      const element = document.createElement(\"link\");\n      element.onload = on_load;\n      element.onerror = on_error.bind(null, url);\n      element.rel = \"stylesheet\";\n      element.type = \"text/css\";\n      element.href = url;\n      console.debug(\"Bokeh: injecting link tag for BokehJS stylesheet: \", url);\n      document.body.appendChild(element);\n    }\n\n    for (let i = 0; i < js_urls.length; i++) {\n      const url = js_urls[i];\n      const element = document.createElement('script');\n      element.onload = on_load;\n      element.onerror = on_error.bind(null, url);\n      element.async = false;\n      element.src = url;\n      console.debug(\"Bokeh: injecting script tag for BokehJS library: \", url);\n      document.head.appendChild(element);\n    }\n  };\n\n  function inject_raw_css(css) {\n    const element = document.createElement(\"style\");\n    element.appendChild(document.createTextNode(css));\n    document.body.appendChild(element);\n  }\n\n  const js_urls = [\"https://cdn.bokeh.org/bokeh/release/bokeh-3.6.3.min.js\", \"https://cdn.bokeh.org/bokeh/release/bokeh-gl-3.6.3.min.js\", \"https://cdn.bokeh.org/bokeh/release/bokeh-widgets-3.6.3.min.js\", \"https://cdn.bokeh.org/bokeh/release/bokeh-tables-3.6.3.min.js\", \"https://cdn.bokeh.org/bokeh/release/bokeh-mathjax-3.6.3.min.js\"];\n  const css_urls = [];\n\n  const inline_js = [    function(Bokeh) {\n      Bokeh.set_log_level(\"info\");\n    },\nfunction(Bokeh) {\n    }\n  ];\n\n  function run_inline_js() {\n    if (root.Bokeh !== undefined || force === true) {\n      try {\n            for (let i = 0; i < inline_js.length; i++) {\n      inline_js[i].call(root, root.Bokeh);\n    }\n\n      } catch (error) {display_loaded(error);throw error;\n      }if (force === true) {\n        display_loaded();\n      }} else if (Date.now() < root._bokeh_timeout) {\n      setTimeout(run_inline_js, 100);\n    } else if (!root._bokeh_failed_load) {\n      console.log(\"Bokeh: BokehJS failed to load within specified timeout.\");\n      root._bokeh_failed_load = true;\n    } else if (force !== true) {\n      const cell = $(document.getElementById(\"a58d114c-9502-400f-a779-12c2fc04138f\")).parents('.cell').data().cell;\n      cell.output_area.append_execute_result(NB_LOAD_WARNING)\n    }\n  }\n\n  if (root._bokeh_is_loading === 0) {\n    console.debug(\"Bokeh: BokehJS loaded, going straight to plotting\");\n    run_inline_js();\n  } else {\n    load_libs(css_urls, js_urls, function() {\n      console.debug(\"Bokeh: BokehJS plotting callback run at\", now());\n      run_inline_js();\n    });\n  }\n}(window));"
     },
     "metadata": {},
     "output_type": "display_data"
    }
   ],
   "source": [
    "%run -n main.py\n",
    "output_notebook()"
   ]
  },
  {
   "cell_type": "markdown",
   "id": "f623c657",
   "metadata": {},
   "source": [
    "# data lmsys"
   ]
  },
  {
   "cell_type": "code",
   "execution_count": 6,
   "id": "2ca1c3b4",
   "metadata": {},
   "outputs": [
    {
     "name": "stderr",
     "output_type": "stream",
     "text": [
      "2025-04-28 15:30:56 path=\"data/lmsys/train-00000-of-00006-4feeb3f83346a0e9.parquet\" len(df)=4705\n",
      "2025-04-28 15:30:57 path=\"data/lmsys/train-00001-of-00006-4030672591c2f478.parquet\" len(df)=4604\n",
      "2025-04-28 15:30:58 path=\"data/lmsys/train-00002-of-00006-1779b7cec9462180.parquet\" len(df)=4533\n",
      "2025-04-28 15:30:58 path=\"data/lmsys/train-00003-of-00006-2fa862bfed56af1f.parquet\" len(df)=4562\n",
      "2025-04-28 15:30:59 path=\"data/lmsys/train-00004-of-00006-18f4bdd50c103e71.parquet\" len(df)=4622\n",
      "2025-04-28 15:31:00 path=\"data/lmsys/train-00005-of-00006-fe1acc5d10a9f0e2.parquet\" len(df)=4570\n"
     ]
    }
   ],
   "source": [
    "lmsys_items = []\n",
    "paths = sorted(Path('data/lmsys/').glob('*.parquet'))\n",
    "for path in paths:\n",
    "    df = pd.read_parquet(\n",
    "        path=path,\n",
    "        filters=[('language', '==', 'Russian')]\n",
    "    )\n",
    "    logger.info('path=\"%s\" len(df)=%d', path, len(df))\n",
    "    for item in df.to_dict(orient=\"records\"):\n",
    "        if item[\"redacted\"]:\n",
    "            continue\n",
    "\n",
    "        moder_items = item[\"openai_moderation\"].tolist()\n",
    "        assert len(moder_items) == item[\"turn\"] * 2\n",
    "        moder_item = moder_items[0]\n",
    "        if moder_item[\"flagged\"]:\n",
    "            continue\n",
    "\n",
    "        assert item[\"language\"] == \"Russian\", item[\"language\"]\n",
    "\n",
    "        conv_items = item[\"conversation\"].tolist()\n",
    "        assert len(conv_items) >= 2, conv_items\n",
    "        conv_item = conv_items[0]\n",
    "        assert conv_item[\"role\"] == \"user\", conv_item\n",
    "\n",
    "        lmsys_items.append({\n",
    "            \"id\": item[\"conversation_id\"],\n",
    "            \"instruction\": conv_item[\"content\"]\n",
    "        })"
   ]
  },
  {
   "cell_type": "code",
   "execution_count": 8,
   "id": "a98dd734",
   "metadata": {},
   "outputs": [
    {
     "data": {
      "text/html": [
       "<h3>2adf80bc06854190997519b6ce0d84bd</h3>"
      ],
      "text/plain": [
       "<IPython.core.display.HTML object>"
      ]
     },
     "metadata": {},
     "output_type": "display_data"
    },
    {
     "name": "stdout",
     "output_type": "stream",
     "text": [
      "привет\n"
     ]
    },
    {
     "data": {
      "text/html": [
       "<h3>9192fc3f80fb49fc8db77dd03415e1f8</h3>"
      ],
      "text/plain": [
       "<IPython.core.display.HTML object>"
      ]
     },
     "metadata": {},
     "output_type": "display_data"
    },
    {
     "name": "stdout",
     "output_type": "stream",
     "text": [
      "Думай как академик. Объясни почему важно изучать особенности субъективного ощущения одиночества у юношей и девушек.\n"
     ]
    },
    {
     "data": {
      "text/html": [
       "<h3>6aa9cf80d677473ba0cff5d379c8727a</h3>"
      ],
      "text/plain": [
       "<IPython.core.display.HTML object>"
      ]
     },
     "metadata": {},
     "output_type": "display_data"
    },
    {
     "name": "stdout",
     "output_type": "stream",
     "text": [
      "Найди мне 10 лучших художественных сериалов о работе ученых\n"
     ]
    },
    {
     "data": {
      "text/html": [
       "<h3>d4166bb5cbbb4a7287103ecd62554b90</h3>"
      ],
      "text/plain": [
       "<IPython.core.display.HTML object>"
      ]
     },
     "metadata": {},
     "output_type": "display_data"
    },
    {
     "name": "stdout",
     "output_type": "stream",
     "text": [
      "Будь экспертом в генетических алгоритмах\n"
     ]
    },
    {
     "data": {
      "text/html": [
       "<h3>02a91a4c454948efa63d78d5d02bc4f6</h3>"
      ],
      "text/plain": [
       "<IPython.core.display.HTML object>"
      ]
     },
     "metadata": {},
     "output_type": "display_data"
    },
    {
     "name": "stdout",
     "output_type": "stream",
     "text": [
      "Make a rhyming translation of these lyrics:\n",
      "\n",
      "Легко на сердце от песни веселой,\n",
      "Она скучать не дает никогда,\n",
      "И любят песню деревни и села,\n",
      "И любят песню большие города.\n",
      "\n",
      "Нам песня строить и жить помогает,\n",
      "Она, как друг, и зовет и ведет,\n",
      "И тот, кто с песней по жизни шагает,\n",
      "Тот никогда и нигде не пропадет!\n"
     ]
    }
   ],
   "source": [
    "for item in random.sample(lmsys_items, 5):\n",
    "    show_h3(item[\"id\"])\n",
    "    print(item[\"instruction\"])"
   ]
  },
  {
   "cell_type": "markdown",
   "id": "7d0bad95",
   "metadata": {},
   "source": [
    "# data wildchat"
   ]
  },
  {
   "cell_type": "code",
   "execution_count": 9,
   "id": "631605c7",
   "metadata": {},
   "outputs": [
    {
     "name": "stderr",
     "output_type": "stream",
     "text": [
      "2025-04-28 15:31:32 path=\"data/wildchat/train-00000-of-00014.parquet\" len(df)=5663\n",
      "2025-04-28 15:31:34 path=\"data/wildchat/train-00001-of-00014.parquet\" len(df)=7097\n",
      "2025-04-28 15:31:35 path=\"data/wildchat/train-00002-of-00014.parquet\" len(df)=8662\n",
      "2025-04-28 15:31:37 path=\"data/wildchat/train-00003-of-00014.parquet\" len(df)=6717\n",
      "2025-04-28 15:31:38 path=\"data/wildchat/train-00004-of-00014.parquet\" len(df)=5153\n",
      "2025-04-28 15:31:39 path=\"data/wildchat/train-00005-of-00014.parquet\" len(df)=3748\n",
      "2025-04-28 15:31:40 path=\"data/wildchat/train-00006-of-00014.parquet\" len(df)=4064\n",
      "2025-04-28 15:31:41 path=\"data/wildchat/train-00007-of-00014.parquet\" len(df)=5624\n",
      "2025-04-28 15:31:42 path=\"data/wildchat/train-00008-of-00014.parquet\" len(df)=6124\n",
      "2025-04-28 15:31:44 path=\"data/wildchat/train-00009-of-00014.parquet\" len(df)=9382\n",
      "2025-04-28 15:31:46 path=\"data/wildchat/train-00010-of-00014.parquet\" len(df)=7788\n",
      "2025-04-28 15:31:48 path=\"data/wildchat/train-00011-of-00014.parquet\" len(df)=5619\n",
      "2025-04-28 15:31:49 path=\"data/wildchat/train-00012-of-00014.parquet\" len(df)=5388\n",
      "2025-04-28 15:31:51 path=\"data/wildchat/train-00013-of-00014.parquet\" len(df)=6098\n"
     ]
    }
   ],
   "source": [
    "wildchat_items = []\n",
    "paths = sorted(Path('data/wildchat/').glob('*.parquet'))\n",
    "for path in paths:\n",
    "    df = pd.read_parquet(\n",
    "        path=path,\n",
    "        filters=[('language', '==', 'Russian')]\n",
    "    )\n",
    "    logger.info('path=\"%s\" len(df)=%d', path, len(df))\n",
    "    for item in df.to_dict(orient=\"records\"):\n",
    "        if item[\"toxic\"] or item[\"redacted\"]:\n",
    "            continue\n",
    "\n",
    "        assert item[\"language\"] == \"Russian\", item[\"language\"]\n",
    "        conv_items = item[\"conversation\"].tolist()\n",
    "\n",
    "        assert len(conv_items) >= 2, conv_items\n",
    "        conv_item = conv_items[0]\n",
    "        assert conv_item[\"role\"] == \"user\"\n",
    "        if conv_item[\"language\"] != \"Russian\":\n",
    "            continue\n",
    "\n",
    "        wildchat_items.append({\n",
    "            \"id\": item[\"conversation_hash\"],\n",
    "            \"instruction\": conv_item[\"content\"]\n",
    "        })"
   ]
  },
  {
   "cell_type": "code",
   "execution_count": 11,
   "id": "3afcab87",
   "metadata": {
    "scrolled": false
   },
   "outputs": [
    {
     "data": {
      "text/html": [
       "<h3>1f20373984cec26a9d30314d743ef8a4</h3>"
      ],
      "text/plain": [
       "<IPython.core.display.HTML object>"
      ]
     },
     "metadata": {},
     "output_type": "display_data"
    },
    {
     "name": "stdout",
     "output_type": "stream",
     "text": [
      "Особенное значение имеет лингвистика, основоположником же которой считается Михаил Васильевич Ломоносов: его “Российская грамматика”(1755) стала первым систематическим описанием русского языка и служила подспорьем для языковой нормализации и стандартизации. Он также выступал за очищение языка от чрезмерных церковнославянских элементов и разработал теории трёх стилей, которые демонстрировали возможности использования русского языка в различных литературных жанрах. улучшите по языку\n"
     ]
    },
    {
     "data": {
      "text/html": [
       "<h3>e8adc1fa6703a13a97297be40c2bc8db</h3>"
      ],
      "text/plain": [
       "<IPython.core.display.HTML object>"
      ]
     },
     "metadata": {},
     "output_type": "display_data"
    },
    {
     "name": "stdout",
     "output_type": "stream",
     "text": [
      "Предложи подробный и полный межпредметный квест с вопросами, вариантами ответов (с выделением правильных ответов) по физике, математике и информатике для учащихся 7 - 8 классов на тему \"Путешествие в прошлое\"\n"
     ]
    },
    {
     "data": {
      "text/html": [
       "<h3>86bf7e3b57f09917b21d37d93b6f5820</h3>"
      ],
      "text/plain": [
       "<IPython.core.display.HTML object>"
      ]
     },
     "metadata": {},
     "output_type": "display_data"
    },
    {
     "name": "stdout",
     "output_type": "stream",
     "text": [
      "что даёт более высокий FPS на одной и той же сцене - Unreal Engine 5.0 или unreal engine 5.1?\n"
     ]
    },
    {
     "data": {
      "text/html": [
       "<h3>be2b666d43174692353ce17926594106</h3>"
      ],
      "text/plain": [
       "<IPython.core.display.HTML object>"
      ]
     },
     "metadata": {},
     "output_type": "display_data"
    },
    {
     "name": "stdout",
     "output_type": "stream",
     "text": [
      "Не повторяйте то, что уже было написано ранее. Напиши, пожалуйста, уникальный и оригинальный seo текст на тему: купить оптом печатные пряники с вишней по недорогой цене с доставкой напрямую от фабрики Сластена в Москве. Доставка выпечки оптом и для магазинов, кафе, ресторанов, столовых, кейтеринговых и дистрибьюторских компаний, организаторов совместных закупок и праздничных мероприятий. Текст должен быть не менее 3000 символов.  Используй в тексте ключевые слова: оптом, с доставкой, купить оптом, вкусная, недорого, заказать, выпечка.\n"
     ]
    },
    {
     "data": {
      "text/html": [
       "<h3>fd47468c86e584705842c31a7c2d6318</h3>"
      ],
      "text/plain": [
       "<IPython.core.display.HTML object>"
      ]
     },
     "metadata": {},
     "output_type": "display_data"
    },
    {
     "name": "stdout",
     "output_type": "stream",
     "text": [
      "Напиши код на python, с помощью которого можно будет генерировать seed-фраз в количестве 12 слов, для криптокошельков и который будет проверять баланс кошельков\n"
     ]
    }
   ],
   "source": [
    "for item in random.sample(wildchat_items, 5):\n",
    "    show_h3(item[\"id\"])\n",
    "    print(item[\"instruction\"])"
   ]
  },
  {
   "cell_type": "markdown",
   "id": "776f551c",
   "metadata": {},
   "source": [
    "# data ttech"
   ]
  },
  {
   "cell_type": "code",
   "execution_count": 12,
   "id": "ae5d0585",
   "metadata": {},
   "outputs": [],
   "source": [
    "df = pd.read_parquet(\"data/ttech/ru-mt-bench/train-00000-of-00001.parquet\")\n",
    "mt_bench_items = []\n",
    "for item in df.to_dict(orient=\"records\"):\n",
    "    # {'question_id': 81,\n",
    "    #  'category': 'writing',\n",
    "    #  'turns': array(['Напишите увлекательный пост в блоге о недавней поездке на Гавайи, расскажите в нем о своих впечатлениях и достопримечательностях, которые обязательно нужно посетить.',\n",
    "    #         'Перепишите свой предыдущий ответ. Начинайте каждое предложение с буквы А.'],\n",
    "    #        dtype=object),\n",
    "    \n",
    "    mt_bench_items.append({\n",
    "        \"id\": \"mt_bench/%d\" % item[\"question_id\"],\n",
    "        \"instruction\": item[\"turns\"][0],\n",
    "    })"
   ]
  },
  {
   "cell_type": "code",
   "execution_count": 13,
   "id": "4c92e547",
   "metadata": {},
   "outputs": [],
   "source": [
    "df = pd.read_json(\"data/ttech/ru-arena-hard/question.jsonl\", lines=True)\n",
    "arena_hard_items = []\n",
    "for item in df.to_dict(orient=\"records\"):\n",
    "    # {'question_id': '328c149ed45a41c0b9d6f14659e63599',\n",
    "    #  'category': 'arena-hard-v0.1',\n",
    "    #  'cluster': 'ABC Sequence Puzzles & Groups',\n",
    "    #  'turns': [{'content': 'Напишите мелодию в стиле фолк с помощью ABC-нотации'}]}\n",
    "\n",
    "    assert len(item[\"turns\"]) == 1\n",
    "\n",
    "    arena_hard_items.append({\n",
    "        \"id\": \"arena_hard/%s\" % item[\"question_id\"],\n",
    "        \"instruction\": item[\"turns\"][0][\"content\"]\n",
    "    })"
   ]
  },
  {
   "cell_type": "code",
   "execution_count": 14,
   "id": "9788e249",
   "metadata": {},
   "outputs": [],
   "source": [
    "df = pd.read_json(\"data/ttech/ru-alpaca-eval/alpaca_eval.json\")\n",
    "alpaca_eval_items = []\n",
    "for index, item in enumerate(df.to_dict(orient=\"records\")):\n",
    "    # {'instruction': 'Как зовут некоторых известных актеров, которые начинали свою карьеру на Бродвее?',\n",
    "    #  'output': 'Многие известные актёры начинали свою карьеру с работы на Бродвее, вот несколько примеров:\\n\\n1. Мэрил Стрип (Meryl Streep) - одна из самых уважаемых и награждённых актрис, начинала свою карьеру на Бродвее в 1970-х годах.\\n2. Сара Джессика Паркер (Sarah Jessica Parker) - известна своей ролью в сериале \"Секс в большом городе\", но до этого она выступала на Бродвее, в том числе, её можно было увидеть в главной роли в мюзикле \"Анни\".\\n3. Морган Фримен (Morgan Freeman) - работал на Бродвее в начале своей карьеры, сначала в малоизвестных спектаклях, а затем и в более заметных произведениях.\\n4. Нэйтан Лейн (Nathan Lane) - знаменитый актёр и комик, его роли в таких мюзиклах, как \"The Producers\" и \"A Funny Thing Happened on the Way to the Forum\", сделали его имя синонимом Бродвея.\\n5. Кевин Клайн (Kevin Kline) - известный актёр, его ранняя карьера включала роли на Бродвее, за одну из которых он даже получил премию Тони.\\n6. Хью Джекман (Hugh Jackman) - хотя он в основном известен своими ролями в кино (в том числе как Волверин в фильмах о Людях Икс), Джекман также выступал в мюзиклах на Бродвее, включая \"The Boy from Oz\".\\n7. Вуди Аллен (Woody Allen) - прежде чем стать знаменитым режиссёром и актёром, выступал на Бродвее в качестве автора и актёра.\\n\\nМногие другие известные актёры также начинали на Бродвее или возвращались туда в течение своей карьеры, так как живые выступления и театр остаются местом, где актёры могут набираться опыта и показывать свои таланты в непосредственной близости от аудитории.',\n",
    "    #  'generator': 'gpt-4o',\n",
    "    #  'dataset': 'helpful_base'}\n",
    "    \n",
    "    alpaca_eval_items.append({\n",
    "        \"id\": \"alpaca_eval/%d\" % index,\n",
    "        \"instruction\": item[\"instruction\"],\n",
    "    })"
   ]
  },
  {
   "cell_type": "markdown",
   "id": "6999a49c",
   "metadata": {},
   "source": [
    "# emb"
   ]
  },
  {
   "cell_type": "code",
   "execution_count": null,
   "id": "d780b59c",
   "metadata": {},
   "outputs": [],
   "source": [
    "%run -n main.py\n",
    "\n",
    "emb_items = []\n",
    "visited = set()\n",
    "for item in wildchat_items + lmsys_items:\n",
    "    text = item[\"instruction\"]\n",
    "    if not 50 < len(text) < 5000:\n",
    "        continue\n",
    "\n",
    "    if text in visited:\n",
    "        continue\n",
    "    visited.add(text)\n",
    "\n",
    "    try:\n",
    "        prompt_tokens = tiktoken_count(text, model=\"text-embedding-3-small\")\n",
    "    except ValueError as error:\n",
    "        # Encountered text corresponding to disallowed special token '<|endofprompt|>' ...\n",
    "        logger.warning('id=\"%s\" error=\"%s\"', item[\"id\"], str(error)[:100])\n",
    "        continue\n",
    "    \n",
    "    # https://platform.openai.com/docs/api-reference/embeddings/create\n",
    "    if prompt_tokens > 8192:\n",
    "        logger.warning('id=\"%s\" prompt_tokens=%d', item[\"id\"], prompt_tokens)\n",
    "        continue\n",
    "        \n",
    "    emb_items.append({\n",
    "        \"id\": item[\"id\"],\n",
    "        \"text\": text,\n",
    "        \"array\": None,\n",
    "        \"prompt_tokens\": prompt_tokens\n",
    "    })\n",
    "    \n",
    "    if len(emb_items) % 10000 == 0:\n",
    "        logger.info(\n",
    "            'len(emb_items)=%d sum(prompt_tokens)=%d',\n",
    "            len(emb_items), sum(_[\"prompt_tokens\"] for _ in emb_items)\n",
    "        )\n",
    "\n",
    "random.shuffle(emb_items)"
   ]
  },
  {
   "cell_type": "code",
   "execution_count": null,
   "id": "73d40d9c",
   "metadata": {},
   "outputs": [],
   "source": [
    "%run -n main.py\n",
    "async def worker(openai_emb_client, emb_items):\n",
    "    input = [_[\"text\"] for _ in emb_items]\n",
    "    input_tokens = sum(_[\"prompt_tokens\"] for _ in emb_items)\n",
    "    logger.info(\"Start len(input)=%d sum(prompt_tokens)=%d\", len(input), sum(_[\"prompt_tokens\"] for _ in emb_items))\n",
    "    response = await openai_emb_client.embeddings(\n",
    "        input,\n",
    "        input_tokens,\n",
    "        model=\"text-embedding-3-small\"\n",
    "    )\n",
    "    \n",
    "    arrays = []\n",
    "    for item in response[\"data\"]:\n",
    "        bytes = b64decode(item[\"embedding\"])\n",
    "        array = np.frombuffer(bytes, dtype=np.float32)\n",
    "        arrays.append(array)\n",
    "        \n",
    "    assert len(emb_items) == len(arrays)\n",
    "    for emb_item, array in zip(emb_items, arrays):\n",
    "        emb_item[\"array\"] = array\n",
    "\n",
    "    logger.info(\"Done response[prompt_tokens]=%d\", response[\"usage\"][\"prompt_tokens\"])\n",
    "\n",
    "\n",
    "def emb_batch(emb_items):\n",
    "    buffer = []\n",
    "    prompt_tokens = 0\n",
    "    for emb_item in emb_items:\n",
    "        if len(buffer) > 2048 or prompt_tokens > 600_000:\n",
    "            item = buffer.pop()\n",
    "            yield buffer\n",
    "            buffer = [item]\n",
    "            prompt_tokens = item[\"prompt_tokens\"]\n",
    "            \n",
    "        buffer.append(emb_item)\n",
    "        prompt_tokens += emb_item[\"prompt_tokens\"]\n",
    "            \n",
    "    if buffer:\n",
    "        yield buffer\n",
    "\n",
    "\n",
    "async with asyncio.TaskGroup() as task_group:\n",
    "    for batch_items in emb_batch(emb_items):\n",
    "        task_group.create_task(worker(openai_emb_client, batch_items))\n"
   ]
  },
  {
   "cell_type": "code",
   "execution_count": null,
   "id": "6d4dcca8",
   "metadata": {},
   "outputs": [],
   "source": [
    "pickle_dump(emb_items, \"data/emb.pkl\")\n",
    "!du -h data/emb.pkl"
   ]
  },
  {
   "cell_type": "markdown",
   "id": "d733ea23",
   "metadata": {},
   "source": [
    "# dedup dbscan"
   ]
  },
  {
   "cell_type": "code",
   "execution_count": 15,
   "id": "57634984",
   "metadata": {
    "scrolled": true
   },
   "outputs": [
    {
     "data": {
      "text/plain": [
       "67619"
      ]
     },
     "execution_count": 15,
     "metadata": {},
     "output_type": "execute_result"
    }
   ],
   "source": [
    "emb_items = pickle_load(\"data/emb.pkl\")\n",
    "len(emb_items)"
   ]
  },
  {
   "cell_type": "code",
   "execution_count": 16,
   "id": "23ac411f",
   "metadata": {},
   "outputs": [
    {
     "name": "stdout",
     "output_type": "stream",
     "text": [
      "CPU times: user 1min 14s, sys: 10.9 s, total: 1min 25s\n",
      "Wall time: 1min 26s\n"
     ]
    }
   ],
   "source": [
    "%%time\n",
    "data = np.vstack([_[\"array\"] for _ in emb_items])\n",
    "dbscan = DBSCAN(\n",
    "    eps=0.2,\n",
    "    min_samples=1,\n",
    "    metric=\"cosine\"\n",
    ").fit(data)"
   ]
  },
  {
   "cell_type": "code",
   "execution_count": 17,
   "id": "3b1923fd",
   "metadata": {
    "scrolled": false
   },
   "outputs": [],
   "source": [
    "cluster_labels = dbscan.labels_.tolist()\n",
    "assert len(cluster_labels) == len(emb_items)\n",
    "cluster_emb_items = defaultdict(list)\n",
    "for cluster_label, emb_item in zip(cluster_labels, emb_items):\n",
    "    cluster_emb_items[cluster_label].append(emb_item)"
   ]
  },
  {
   "cell_type": "code",
   "execution_count": 18,
   "id": "32f9a5f4",
   "metadata": {
    "scrolled": false
   },
   "outputs": [
    {
     "data": {
      "text/html": [
       "<h3>16723</h3>"
      ],
      "text/plain": [
       "<IPython.core.display.HTML object>"
      ]
     },
     "metadata": {},
     "output_type": "display_data"
    },
    {
     "name": "stdout",
     "output_type": "stream",
     "text": [
      "Стратегия воспитания в Российской Федерации на период до 2025 года (общие положения)\n"
     ]
    },
    {
     "data": {
      "text/html": [
       "<hr/>"
      ],
      "text/plain": [
       "<IPython.core.display.HTML object>"
      ]
     },
     "metadata": {},
     "output_type": "display_data"
    },
    {
     "name": "stdout",
     "output_type": "stream",
     "text": [
      "Стратегия воспитания в Российской Федерации на период до 2025 года (общие положения).\n"
     ]
    },
    {
     "data": {
      "text/html": [
       "<hr/>"
      ],
      "text/plain": [
       "<IPython.core.display.HTML object>"
      ]
     },
     "metadata": {},
     "output_type": "display_data"
    },
    {
     "name": "stdout",
     "output_type": "stream",
     "text": [
      "Стратегия воспитания в Российской Федерации на период до 2025 года (общие положения)\n",
      "\n",
      "\n"
     ]
    },
    {
     "data": {
      "text/html": [
       "<hr/>"
      ],
      "text/plain": [
       "<IPython.core.display.HTML object>"
      ]
     },
     "metadata": {},
     "output_type": "display_data"
    },
    {
     "data": {
      "text/html": [
       "<h3>8684</h3>"
      ],
      "text/plain": [
       "<IPython.core.display.HTML object>"
      ]
     },
     "metadata": {},
     "output_type": "display_data"
    },
    {
     "name": "stdout",
     "output_type": "stream",
     "text": [
      "Представь, что ты физик. Расчитай критическую массу Тория.\n"
     ]
    },
    {
     "data": {
      "text/html": [
       "<hr/>"
      ],
      "text/plain": [
       "<IPython.core.display.HTML object>"
      ]
     },
     "metadata": {},
     "output_type": "display_data"
    },
    {
     "name": "stdout",
     "output_type": "stream",
     "text": [
      "Представь, что ты физик специализирующийся на военных науках. По какой формуле можно рассчитать критическую массу Тория?\n"
     ]
    },
    {
     "data": {
      "text/html": [
       "<hr/>"
      ],
      "text/plain": [
       "<IPython.core.display.HTML object>"
      ]
     },
     "metadata": {},
     "output_type": "display_data"
    },
    {
     "data": {
      "text/html": [
       "<h3>9589</h3>"
      ],
      "text/plain": [
       "<IPython.core.display.HTML object>"
      ]
     },
     "metadata": {},
     "output_type": "display_data"
    },
    {
     "name": "stdout",
     "output_type": "stream",
     "text": [
      "Судостроение (строительство крупнотоннажных судов). проведи анализ, используя интернет и официальные источники и напиши мне статистику развития в экономике с 1990 по 2020 года\n"
     ]
    },
    {
     "data": {
      "text/html": [
       "<hr/>"
      ],
      "text/plain": [
       "<IPython.core.display.HTML object>"
      ]
     },
     "metadata": {},
     "output_type": "display_data"
    },
    {
     "name": "stdout",
     "output_type": "stream",
     "text": [
      "Судостроение (строительство крупнотоннажных судов). проведи анализ, используя интернет и официальные источники и напиши мне статистику развития в экономике россии очень подробно с 1990 по 2020 года\n"
     ]
    },
    {
     "data": {
      "text/html": [
       "<hr/>"
      ],
      "text/plain": [
       "<IPython.core.display.HTML object>"
      ]
     },
     "metadata": {},
     "output_type": "display_data"
    },
    {
     "name": "stdout",
     "output_type": "stream",
     "text": [
      "Судостроение (строительство крупнотоннажных судов). статистика с 1990 по 2020\n"
     ]
    },
    {
     "data": {
      "text/html": [
       "<hr/>"
      ],
      "text/plain": [
       "<IPython.core.display.HTML object>"
      ]
     },
     "metadata": {},
     "output_type": "display_data"
    }
   ],
   "source": [
    "labels = [\n",
    "    _ for _ in cluster_labels\n",
    "    if len(cluster_emb_items[_]) > 1\n",
    "]\n",
    "random.shuffle(labels)\n",
    "for cluster_label in random.sample(labels, 3):\n",
    "    show_h3(cluster_label)\n",
    "    items = cluster_emb_items[cluster_label]\n",
    "    random.shuffle(items)\n",
    "    for item in items[:3]:\n",
    "        print(item[\"text\"])\n",
    "        show_hr()"
   ]
  },
  {
   "cell_type": "code",
   "execution_count": null,
   "id": "a2f37783",
   "metadata": {},
   "outputs": [],
   "source": [
    "dedup_emb_items = []\n",
    "for cluster_label, items in cluster_emb_items.items():\n",
    "    item = max(items, key=len)\n",
    "    dedup_emb_items.append(item)\n",
    "len(dedup_emb_items)"
   ]
  },
  {
   "cell_type": "code",
   "execution_count": null,
   "id": "240ccbf5",
   "metadata": {},
   "outputs": [],
   "source": [
    "json_dump([_[\"id\"] for _ in dedup_emb_items], \"data/cluster/01_dedup_ids.json\")"
   ]
  },
  {
   "cell_type": "markdown",
   "id": "5d0f16f9",
   "metadata": {},
   "source": [
    "# prompt hardness"
   ]
  },
  {
   "cell_type": "code",
   "execution_count": null,
   "id": "99170ced",
   "metadata": {},
   "outputs": [],
   "source": [
    "id_emb_items = {_[\"id\"]: _ for _ in pickle_load(\"data/emb.pkl\")}\n",
    "dedup_ids = json_load(\"data/cluster/01_dedup_ids.json\")"
   ]
  },
  {
   "cell_type": "code",
   "execution_count": null,
   "id": "e9154e51",
   "metadata": {},
   "outputs": [],
   "source": [
    "job_items = []\n",
    "for id in dedup_ids:\n",
    "    job_items.append({\n",
    "        \"id\": id,\n",
    "        \"instruction\": id_emb_items[id][\"text\"],\n",
    "        \"answer\": None,\n",
    "        \"cats\": None,\n",
    "        \"hardness\": None,\n",
    "        \"cost\": 0\n",
    "    })\n",
    "\n",
    "random.shuffle(job_items)\n",
    "len(job_items)"
   ]
  },
  {
   "cell_type": "code",
   "execution_count": null,
   "id": "aeb776be",
   "metadata": {},
   "outputs": [],
   "source": [
    "def answer_cats(answer, mapping):\n",
    "    ids = (int(_) for _ in re.findall(r\"\\d+\", answer))\n",
    "    return [mapping[_] for _ in sorted(set(ids)) if _ in mapping]\n",
    "\n",
    "_, mapping = prompt_lmsys_hardness(\"\")\n",
    "\n",
    "for item in job_items:\n",
    "    item[\"cats\"] = answer_cats(item[\"answer\"], mapping)\n",
    "    item[\"hardness\"] = len(item[\"cats\"])"
   ]
  },
  {
   "cell_type": "code",
   "execution_count": null,
   "id": "26032403",
   "metadata": {},
   "outputs": [],
   "source": [
    "%run -n main.py\n",
    "def answer_cats(answer, mapping):\n",
    "    ids = (int(_) for _ in re.findall(r\"\\d+\", answer))\n",
    "    return [mapping[_] for _ in sorted(set(ids)) if _ in mapping]\n",
    "\n",
    "\n",
    "async def worker(openrouter_client, job_item):\n",
    "    messages, mapping = prompt_lmsys_hardness(job_item[\"instruction\"])\n",
    "    response = await openrouter_client(\n",
    "        model=\"google/gemini-2.0-flash-001\",\n",
    "        messages=messages,\n",
    "        temperature=0,\n",
    "        max_tokens=50\n",
    "    )\n",
    "    job_item[\"answer\"] = response[\"choices\"][0][\"message\"][\"content\"].strip()\n",
    "    job_item[\"cats\"] = answer_cats(job_item[\"answer\"], mapping)\n",
    "    job_item[\"hardness\"] = len(job_item[\"cats\"])\n",
    "    job_item[\"cost\"] = response[\"cost\"]\n",
    "\n",
    "    logger.info(\n",
    "        \"[..%s] cost=%.4f len(cats)=%d\",\n",
    "        job_item[\"id\"][-5:], job_item[\"cost\"], len(job_item[\"cats\"])\n",
    "    )\n",
    "\n",
    "\n",
    "async with asyncio.TaskGroup() as task_group:\n",
    "    for job_item in job_items:\n",
    "        if job_item[\"answer\"]:\n",
    "            continue\n",
    "\n",
    "        task_group.create_task(worker(openrouter_client, job_item))"
   ]
  },
  {
   "cell_type": "code",
   "execution_count": null,
   "id": "112a75c0",
   "metadata": {},
   "outputs": [],
   "source": [
    "json_dump(job_items, \"data/prompt/01_hardness.json\")"
   ]
  },
  {
   "cell_type": "markdown",
   "id": "ef129cbf",
   "metadata": {},
   "source": [
    "# prompt category"
   ]
  },
  {
   "cell_type": "code",
   "execution_count": null,
   "id": "7fb302f3",
   "metadata": {},
   "outputs": [],
   "source": [
    "id_emb_items = {_[\"id\"]: _ for _ in pickle_load(\"data/emb.pkl\")}\n",
    "dedup_ids = json_load(\"data/cluster/01_dedup_ids.json\")"
   ]
  },
  {
   "cell_type": "code",
   "execution_count": null,
   "id": "640a674c",
   "metadata": {},
   "outputs": [],
   "source": [
    "job_items = []\n",
    "for id in dedup_ids:\n",
    "    job_items.append({\n",
    "        \"id\": id,\n",
    "        \"instruction\": id_emb_items[id][\"text\"],\n",
    "        \"answer\": None,\n",
    "        \"cat\": None,\n",
    "        \"cost\": 0\n",
    "    })\n",
    "\n",
    "random.shuffle(job_items)\n",
    "len(job_items)"
   ]
  },
  {
   "cell_type": "code",
   "execution_count": null,
   "id": "3d7e02fd",
   "metadata": {},
   "outputs": [],
   "source": [
    "%run -n main.py\n",
    "async def worker(openrouter_client, job_item):\n",
    "    messages, cats = prompt_wildchat_classify(job_item[\"instruction\"])\n",
    "    response = await openrouter_client(\n",
    "        model=\"google/gemini-2.0-flash-001\",\n",
    "        messages=messages,\n",
    "        temperature=0,\n",
    "        max_tokens=10\n",
    "    )\n",
    "    job_item[\"answer\"] = response[\"choices\"][0][\"message\"][\"content\"].strip()\n",
    "\n",
    "    job_item[\"cat\"] = job_item[\"answer\"]\n",
    "    if job_item[\"cat\"] not in cats:\n",
    "        job_item[\"cat\"] = \"?\"\n",
    "\n",
    "    job_item[\"cost\"] = response[\"cost\"]\n",
    "\n",
    "    logger.info(\n",
    "        \"[..%s] cost=%.4f cat=%s\",\n",
    "        job_item[\"id\"][-5:], job_item[\"cost\"], job_item[\"cat\"]\n",
    "    )\n",
    "\n",
    "async with asyncio.TaskGroup() as task_group:\n",
    "    for job_item in job_items:\n",
    "        if job_item[\"answer\"]:\n",
    "            continue\n",
    "\n",
    "        task_group.create_task(worker(openrouter_client, job_item))"
   ]
  },
  {
   "cell_type": "code",
   "execution_count": null,
   "id": "c7cc575f",
   "metadata": {},
   "outputs": [],
   "source": [
    "json_dump(job_items, \"data/prompt/02_category.json\")"
   ]
  },
  {
   "cell_type": "code",
   "execution_count": 19,
   "id": "a0811bdf",
   "metadata": {},
   "outputs": [],
   "source": [
    "job_items = json_load(\"data/prompt/02_category.json\")"
   ]
  },
  {
   "cell_type": "code",
   "execution_count": 20,
   "id": "32c7c154",
   "metadata": {},
   "outputs": [
    {
     "data": {
      "text/plain": [
       "Counter({'Information seeking': 16536,\n",
       "         'Creative Writing': 7374,\n",
       "         'Coding & Debugging': 6902,\n",
       "         'Editing': 4688,\n",
       "         'Math': 3044,\n",
       "         'Reasoning': 2971,\n",
       "         'Brainstorming': 2963,\n",
       "         'Advice seeking': 2072,\n",
       "         'Planning': 1601,\n",
       "         'Others': 1565,\n",
       "         'Role playing': 870,\n",
       "         'Data Analysis': 644,\n",
       "         '?': 89})"
      ]
     },
     "execution_count": 20,
     "metadata": {},
     "output_type": "execute_result"
    }
   ],
   "source": [
    "Counter(_[\"cat\"] for _ in job_items)"
   ]
  },
  {
   "cell_type": "code",
   "execution_count": 21,
   "id": "ed4f2b8d",
   "metadata": {
    "scrolled": false
   },
   "outputs": [
    {
     "data": {
      "text/html": [
       "<h3>Information seeking</h3>"
      ],
      "text/plain": [
       "<IPython.core.display.HTML object>"
      ]
     },
     "metadata": {},
     "output_type": "display_data"
    },
    {
     "name": "stdout",
     "output_type": "stream",
     "text": [
      "Приведи список литературы из книги Йохена Хевса \"Геохимия стабильных изотопов\", которая помогла бы для создания проектной работы по теме \" Использование изотопной масс-спектрометрии стабильных изотопов углерода для определения соответствия источника сжиженного газа заявленному в сертификате (документе) на примере зарядки зажигалок\"\n"
     ]
    },
    {
     "data": {
      "text/html": [
       "<hr/>"
      ],
      "text/plain": [
       "<IPython.core.display.HTML object>"
      ]
     },
     "metadata": {},
     "output_type": "display_data"
    },
    {
     "name": "stdout",
     "output_type": "stream",
     "text": [
      "Отправка сообщения в тред\n",
      "POST https://2ch.hk/user/posting\n",
      "Параметры:\n",
      "\n",
      "\n",
      "task: \"post\".\n",
      "\n",
      "board: ID доски. Пример: \"b\".\n",
      "\n",
      "thread: ID треда. Пример: 194336016.\n",
      "\n",
      "op_mark: Галка \"ОП треда\" в форме создания треда или отправке комментария. Подробности — в подразделе \"ОП треда\". Пример в случае проставленной галки \"ОП треда\": 1. Можно оставить пустым.\n",
      "\n",
      "usercode: Если пользователь входит под \"пасскодом\", ему выдаётся случайно сгенерированный хеш. Этот хеш (не сам \"пасскод\") следует записывать в данный параметр при отправке сообщения или треда. Подробнее о \"пасскодах\" можно прочесть в разделе \"Пасскод\". Можно оставить пустым.\n",
      "\n",
      "code: Судя по всему, не используется. Оставить пустым.\n",
      "\n",
      "captcha_type: Выбранный вид капчи. Возможные значения:\n",
      "\n",
      "\n",
      "recaptcha — Google ReCAPTCHA.\n",
      "\n",
      "invisible_recaptcha — Google Invisible ReCAPTCHA.\n",
      "\n",
      "recaptcha3 — Google ReCAPTCHA 3.\n",
      "\n",
      "2chcaptcha – \"Самописная\" капча Двача.\n",
      "\n",
      "appid — Постинг без капчи с \"ключом приложения\". Подробности в разделе \"Новое API\" в подразделе \"Постинг без капчи\".\n",
      "\n",
      "passcode — Постинг без капчи с \"пасскодом\".\n",
      "\n",
      "nocaptcha — Если капча не требуется. Например, капча может не требоваться вообще на какой-либо доске, или пользователю может быть разрешено некоторое время постить без капчи, потому что он уже прошёл проверку на \"робота\".\n",
      "\n",
      "\n",
      "\n",
      "email: Электронная почта пользователя. Примеры: \"admin@example.com\", \"sage\". На некоторых досках (например, /b/) в форме отправки сообщения нет поля \"Имя\", и имя можно вписать в поле \"Email\", например: \"Анон\". Можно оставить пустым.\n",
      "\n",
      "name: Имя пользователя. Пример: \"Анон\". На некоторых досках (например, /b/) в форме отправки сообщения нет поля \"Имя\". Можно оставить пустым.\n",
      "\n",
      "subject: Тема сообщения. На некоторых досках (например, /b/) в форме отправки сообщения нет поля \"Тема\". Можно оставить пустым.\n",
      "\n",
      "icon: На некоторых досках можно прикреплять \"значки\" к отправляемым сообщениям. Например, в /po/ разрешены значки политической ориентации: \"Коммунизм\", \"Родноверие\", и т.п. Возможные значения: число (ID значка), или -1, если значок не выбран.\n",
      "\n",
      "comment: Текст отправляемого комментария. Можно оставить пустым.\n",
      "\n",
      "formimages[]: Список вложений, прикреплённых к отправляемому комментарию. Двоичные данные (стандартная отправка файлов в составе HTTP POST запроса). Можно оставить пустым.\n",
      "\n",
      "oekaki_image: Видимо, используется для отправки рисунков \"оэкаки\". Можно оставить пустым.\n",
      "\n",
      "oekaki_metadata: Видимо, используется для отправки рисунков \"оэкаки\". Можно оставить пустым.\n",
      "\n",
      "2chaptcha_id: (видимо, только в случае использования какой-то старой \"самописной\" капчи Двача; видимо, не относится к \"новой\" самописной капче Двача, которая 2chcaptcha) ID капчи, который был получен ранее с сервера 2ch.hk.\n",
      "\n",
      "g-recaptcha-response: (только в случае использования капчи reCAPTCHA) Ответ разгаданной капчи reCAPTCHA.\n",
      "\n",
      "2chcaptcha_id: (только в случае использования капчи 2chcaptcha) ID капчи 2chcaptcha, который был получен ранее с сервера 2ch.hk.\n",
      "\n",
      "2chcaptcha_value: (только в случае использования капчи 2chcaptcha) Ответ разгаданной капчи 2chcaptcha.\n",
      "\n",
      "makaka_id: Судя по всему, не используется. Оставить пустым.\n",
      "\n",
      "makaka_answer: Судя по всему, не используется. Оставить пустым.\n",
      "\n",
      "file[]: Судя по всему, не используется. Оставить пустым.\n",
      "\n",
      "Параметры передаются в формате «формы» (он же multipart/form-data, он же FormData).\n",
      "Пример ответа без ошибки:\n",
      "\n",
      "{\n",
      "  \"result\": 1,\n",
      "  \"num\": 1234567890\n",
      "}\n",
      "\n",
      "\n",
      "Где:\n",
      "\n",
      "\n",
      "num — ID отправленного сообщения\n",
      "\n",
      "Пример ответа с ошибкой:\n",
      "\n",
      "{\n",
      "  \"result\": 0,\n",
      "  \"error\": Error\n",
      "}\n",
      "\n",
      "\n",
      "Где:\n",
      "\n",
      "\n",
      "error — Объект типа Error\n",
      "\n",
      "\n",
      "При возникновении ошибки \"статус\" HTTP ответа останется таким же — 200 — что не корректно, и не соответствует спецификации HTML REST API, но не является препятствием. Исключение: ошибка \"тред не найден\", при которой \"статус\" HTTP ответа будет 404.\n"
     ]
    },
    {
     "data": {
      "text/html": [
       "<hr/>"
      ],
      "text/plain": [
       "<IPython.core.display.HTML object>"
      ]
     },
     "metadata": {},
     "output_type": "display_data"
    },
    {
     "name": "stdout",
     "output_type": "stream",
     "text": [
      "Цели и задачи управления рисками информационной безопасности\n"
     ]
    },
    {
     "data": {
      "text/html": [
       "<hr/>"
      ],
      "text/plain": [
       "<IPython.core.display.HTML object>"
      ]
     },
     "metadata": {},
     "output_type": "display_data"
    },
    {
     "name": "stdout",
     "output_type": "stream",
     "text": [
      "что можно изучить подростку который планирует поступать на юриста в России, а именно в госструктуры?\n"
     ]
    },
    {
     "data": {
      "text/html": [
       "<hr/>"
      ],
      "text/plain": [
       "<IPython.core.display.HTML object>"
      ]
     },
     "metadata": {},
     "output_type": "display_data"
    },
    {
     "name": "stdout",
     "output_type": "stream",
     "text": [
      "действие нормативно-правовых актов во времени, пространстве и кругу лиц\n"
     ]
    },
    {
     "data": {
      "text/html": [
       "<hr/>"
      ],
      "text/plain": [
       "<IPython.core.display.HTML object>"
      ]
     },
     "metadata": {},
     "output_type": "display_data"
    },
    {
     "data": {
      "text/html": [
       "<h3>Creative Writing</h3>"
      ],
      "text/plain": [
       "<IPython.core.display.HTML object>"
      ]
     },
     "metadata": {},
     "output_type": "display_data"
    },
    {
     "name": "stdout",
     "output_type": "stream",
     "text": [
      "Напиши сказку на основе стихотворения: Еж летит к себе домой\n",
      "Чтобы отдохнуть в свой выходной\n",
      "Но не выйдет у него\n",
      "Так как на улице уже темно.\n",
      "\n"
     ]
    },
    {
     "data": {
      "text/html": [
       "<hr/>"
      ],
      "text/plain": [
       "<IPython.core.display.HTML object>"
      ]
     },
     "metadata": {},
     "output_type": "display_data"
    },
    {
     "name": "stdout",
     "output_type": "stream",
     "text": [
      "Напиши статью 5 бесплатный нейросетей для видео. ключевое слово для статьи (Напиши статью 5 бесплатный нейросетей для видео)\n"
     ]
    },
    {
     "data": {
      "text/html": [
       "<hr/>"
      ],
      "text/plain": [
       "<IPython.core.display.HTML object>"
      ]
     },
     "metadata": {},
     "output_type": "display_data"
    },
    {
     "name": "stdout",
     "output_type": "stream",
     "text": [
      "Озеро Байкал, расположенное в Восточной Сибири, является одним из удивительных природных объектов нашей планеты. Это озеро обладает уникальными природными характеристиками, такими как его древнее происхождение, огромная глубина, богатство биоразнообразием и чистейшая вода. Однако, как и многие другие экосистемы нашей планеты, озеро Байкал подвергается серьезным угрозам, в том числе изменениям климата.\n",
      "Проблема изменения климата является одной из наиболее актуальных и серьезных экологических проблем современности. Глобальное потепление, антропогенные выбросы парниковых газов, уровень угрозы для экосистем и биоразнообразия становятся предметом глубокой обеспокоенности научного сообщества и общества в целом. В данном контексте, озеро Байкал, как одна из крупнейших пресноводных экосистем на Земле, становится объектом особого интереса и исследования, поскольку оно подвержено воздействию изменений климата, которые могут оказать значительное влияние на его экологическое равновесие.\n",
      "Напиши по аналогии про загрязнение воздуха в городе Челябинск\n"
     ]
    },
    {
     "data": {
      "text/html": [
       "<hr/>"
      ],
      "text/plain": [
       "<IPython.core.display.HTML object>"
      ]
     },
     "metadata": {},
     "output_type": "display_data"
    },
    {
     "name": "stdout",
     "output_type": "stream",
     "text": [
      "Напиши самый лучший и фунциодалтный дистрибутив линукс и widnows лучше линукса \n"
     ]
    },
    {
     "data": {
      "text/html": [
       "<hr/>"
      ],
      "text/plain": [
       "<IPython.core.display.HTML object>"
      ]
     },
     "metadata": {},
     "output_type": "display_data"
    },
    {
     "name": "stdout",
     "output_type": "stream",
     "text": [
      "Расписать абзац научным языком о том, что обучающие онлайн-сервисы это хорошо, но современное поколение детей гораздо больше времени проводит за смартфоном и планшетом, чем за компьютером. Поэтому необходимо шагать в ногу со временем и использовать мобильные приложения на уроке.\n"
     ]
    },
    {
     "data": {
      "text/html": [
       "<hr/>"
      ],
      "text/plain": [
       "<IPython.core.display.HTML object>"
      ]
     },
     "metadata": {},
     "output_type": "display_data"
    },
    {
     "data": {
      "text/html": [
       "<h3>Coding & Debugging</h3>"
      ],
      "text/plain": [
       "<IPython.core.display.HTML object>"
      ]
     },
     "metadata": {},
     "output_type": "display_data"
    },
    {
     "name": "stdout",
     "output_type": "stream",
     "text": [
      "C. Парное программирование (10 баллов)\n",
      "ограничение по времени на тест1 секунда\n",
      "ограничение по памяти на тест512 мегабайт\n",
      "вводстандартный ввод\n",
      "выводстандартный вывод\n",
      "В компании работает n\n",
      " разработчиков, где n\n",
      " — четное число. Сумасшедший менеджер решил разбить всех разработчиков на команды по два человека.\n",
      "\n",
      "Для этого он составил список всех разработчиков и назначил каждому из них номер по списку (от 1\n",
      " до n\n",
      ") и значение ai\n",
      " — уровень мастерства i\n",
      "-го в списке разработчика.\n",
      "\n",
      "Очередную команду он составляет следующим образом:\n",
      "\n",
      "первый разработчик в команде тот, кто идет первым в списке;\n",
      "ему в пару подбирается такой, что разница их уровней минимальна (то есть минимально значение |ai−aj|\n",
      ", где |x|\n",
      " — это модуль числа x\n",
      "); если таких кандидатов несколько, то выбирается из них тот, кто находится раньше в списке;\n",
      "эти два разработчика образуют команду и удаляются из списка.\n",
      "Например, если массив a\n",
      " равен [2,1,3,1,1,4]\n",
      ", то формирование команд будет происходить следующим образом:\n",
      "\n",
      "назначим разработчикам номера [1,2,3,4,5,6]\n",
      " в соответствии с их положением в списке, первый среди них имеет номер 1\n",
      ", его уровень мастерства a1=2\n",
      ", подходящими (с минимальной абсолютной разностью) являются разработчики с номерами 2,3,4,5\n",
      ", первый среди них 2\n",
      ", таким образом первая команда — это разработчики с номерами 1\n",
      " и 2\n",
      ";\n",
      "оставшиеся разработчики теперь имеют номера [3,4,5,6]\n",
      ", первый среди них 3\n",
      ", его уровень a3=3\n",
      ", разработчик с минимальной абсолютной разностью только один (номер 6\n",
      "), таким образом команда — разработчики с номерами 3\n",
      " и 6\n",
      ";\n",
      "оставшиеся разработчики имеют номера [4,5]\n",
      ", первый среди них 4\n",
      ", его уровень a4=1\n",
      ", остался только разработчик с номером 5\n",
      ", таким образом третья команда — разработчики с номерами 4\n",
      " и 5\n",
      ".\n",
      "Ваша задача — помочь сумасшедшему менеджеру промоделировать процесс разбиения на команды. Обратите внимание, что команды должны быть выведены в порядке, описанном выше в условии.\n"
     ]
    },
    {
     "data": {
      "text/html": [
       "<hr/>"
      ],
      "text/plain": [
       "<IPython.core.display.HTML object>"
      ]
     },
     "metadata": {},
     "output_type": "display_data"
    },
    {
     "name": "stdout",
     "output_type": "stream",
     "text": [
      "Как в дата-паке для майнкрафт. Проверить открыт ли эндер сундук?\n"
     ]
    },
    {
     "data": {
      "text/html": [
       "<hr/>"
      ],
      "text/plain": [
       "<IPython.core.display.HTML object>"
      ]
     },
     "metadata": {},
     "output_type": "display_data"
    },
    {
     "name": "stdout",
     "output_type": "stream",
     "text": [
      "Создайте модель «Article» для веб-приложения. Модель должна содержать поля, такие как «title», «content», «date_published» и «author». Затем создайте миграции для этой модели и примените их к базе данных.\n"
     ]
    },
    {
     "data": {
      "text/html": [
       "<hr/>"
      ],
      "text/plain": [
       "<IPython.core.display.HTML object>"
      ]
     },
     "metadata": {},
     "output_type": "display_data"
    },
    {
     "name": "stdout",
     "output_type": "stream",
     "text": [
      "как записать в переменную текст, написанный пользователем telegram bot на golang\n"
     ]
    },
    {
     "data": {
      "text/html": [
       "<hr/>"
      ],
      "text/plain": [
       "<IPython.core.display.HTML object>"
      ]
     },
     "metadata": {},
     "output_type": "display_data"
    },
    {
     "name": "stdout",
     "output_type": "stream",
     "text": [
      "напиши код на python, чтобы узнать, кто добавил видео ютуб с id= 0gtReHYhxPI в плейлист с использованием api_key\n"
     ]
    },
    {
     "data": {
      "text/html": [
       "<hr/>"
      ],
      "text/plain": [
       "<IPython.core.display.HTML object>"
      ]
     },
     "metadata": {},
     "output_type": "display_data"
    },
    {
     "data": {
      "text/html": [
       "<h3>Editing</h3>"
      ],
      "text/plain": [
       "<IPython.core.display.HTML object>"
      ]
     },
     "metadata": {},
     "output_type": "display_data"
    },
    {
     "name": "stdout",
     "output_type": "stream",
     "text": [
      "\n",
      "Переведите на английский язык, употребляя под-\n",
      "ходящие по смыслу модальные глаголы (can, can't, may, might, must, needn't, should, shouldn't).\n",
      "\n",
      "1. Ты можешь пойти туда: я не возражаю. 2.Ты можешь пойти туда: это совсем близко. 3. Ты не Можешь пойти туда: ты не знаешь адреса. 4. Ты Можешь не ходить туда: я могу им позвонить. 5. Ты не должен идти туда: они очень плохие люди. 6. Ты мог и не ходить туда вчера. 7. Тебе следует пойти туда: они тебя ждут. 8. Тебе следовало пойти туда вчера. 9. Тебе не следовало ходить туда вчера. 10. Она, должно быть, дома сейчас. 11. Она, должно быть, была дома вчера. 12. Мы, может быть, при- дем к вам завтра. 13. Они, может быть, приходили К нам вчера, но нас не было дома. 14. Он, должно быть, видел этот памятник, когда был в вашем городе. 15. Он, может быть, видел этот памятник, когда был в вашем городе. 16. Не может быть, что он знает эту картину. 17. Не может быть, что он видел эту картину. 18. Он, может быть, и знает эту проблему, поэтому он, может быть, и знает ответ на этот вопрос, но я не очень уверена. 19. Где они сейчас живут? Они, может быть, и живут сейчас за границей, но я не очень в этом уверена. 20. Ты, должно быть, напрашиваешься на неприятности. 21. Вам следовало бы послушать его и попытаться не беспокоиться об этом\n"
     ]
    },
    {
     "data": {
      "text/html": [
       "<hr/>"
      ],
      "text/plain": [
       "<IPython.core.display.HTML object>"
      ]
     },
     "metadata": {},
     "output_type": "display_data"
    },
    {
     "name": "stdout",
     "output_type": "stream",
     "text": [
      "Сделай текст уникальным\n",
      "\n",
      "\n",
      "После изучения результатов было решено задать дополнительный вопрос: « Как вы думаете, какие цели преследуют подростки, используя сленговые выражения в своей речи?» Большинство опрошенных ответило, что молодёжь считает это скорее забавой, игрой, нежели нарочным коверканьем русского языка. Также респонденты говорили о том, что с помощью жаргона можно украсить свою речь, сделать ее более выразительной.\n",
      "\n",
      "И вот какие слова можно услышать в речи актюбинских школьников…\n",
      "\n",
      "Разве эти выражения могли бы кого-то украсить???\n",
      "\n"
     ]
    },
    {
     "data": {
      "text/html": [
       "<hr/>"
      ],
      "text/plain": [
       "<IPython.core.display.HTML object>"
      ]
     },
     "metadata": {},
     "output_type": "display_data"
    },
    {
     "name": "stdout",
     "output_type": "stream",
     "text": [
      "Будь профессиональным редактором. Проверь текст на стилистические ошибки и неточности.\n",
      "Модернизация автозвука может быть комплексной, так и состоять из установки отдельных ее компонентов. Перед началом работы с автозвуком, важно изучить особенности установки каждого из элементов для получения качественного результата. На что стоит обратить внимание и какие варианты можно рассматривать в качестве ориентира?\n",
      "\n",
      "Предварительная шумоизоляция.\n",
      "Без грамотной шумо- виброизоляции автомобиля достичь идеального звучания будет невозможно даже с качественной акустикой и аудиосистемой. Поэтому, это один из первых шагов к отличному звуку.\n",
      "\n",
      "Выбор типа акустики и аппаратуры.\n",
      "При ограниченном бюджете и желании улучшить качество звука, можно обойтись выбором обычной магнитолы и установке пары задних трехполосных динамиков. При грамотной настройке такая система может звучать на приемлемом уровне.\n",
      "\n",
      "Если вы считаете себя меломаном и есть возможность потратиться на дополнительное оборудование, то следует обратить свое внимание на выбор качественной аудиосистемы или головного устройства, усилителя и сабвуфера. В таком варианте, при условии что используются хорошие динамики, можно достичь весьма отличных результатов. Музыка с такой системой не будет надоедать в дороге и будет дарить приятные эмоции и ощущение комфорта.\n",
      "\n",
      "При неограниченном бюджете можно рассматривать профессиональные аудиосистемы, акустику, состоящую из комплекса высокочастотных и среднечастотных динамиков, мощные усилители, дорогую проводку, инсталляции и подсветку. Пос\n"
     ]
    },
    {
     "data": {
      "text/html": [
       "<hr/>"
      ],
      "text/plain": [
       "<IPython.core.display.HTML object>"
      ]
     },
     "metadata": {},
     "output_type": "display_data"
    },
    {
     "name": "stdout",
     "output_type": "stream",
     "text": [
      "Перепишите на русском языке предоставленный текст, сохраняя его общий смысл и структуру, но используя: Разнообразную лексику, Перефразирование и переформулирование предложений, Изменение порядка слов и структуры предложений, Улучшение читабельности и удобочитаемости, Сохранение точности и ясности исходного текста. Дополнительные указания: Избегайте использования плагиата или перефразирования с помощью синонимайзеров, Стремитесь к созданию уникального и оригинального текста, который не будет идентичен исходному, Ни одно предложение из созданного вами не должно точь-в-точь повторять исходное, уберите из текста весь мусор вроде ссылок. Разбей текст на абзацы. Заголовок для текста придумывать не нужно. Вот сам текст: \n",
      "Найден дешёвый метод добычи золота: российские учёные обнаружили неожиданное применение сибирским бактериямУченые из Сибирского федерального университета и Северо-Восточного федерального университета имени М. В. Аммосова совместно с Сибирским отделением Российской академии наук разработали инновационный метод извлечения золота и сурьмы из сложных многокомпонентных руд. Фото: responsiblemines.org by Alliance for Responsible Mining is licensed under Creative Commons Attribution-Share Alike 4.0 International Исследователи обратили внимание на использование не традиционных агрессивных химических реагентов, а местных сибирских бактерий, что делает процесс более экологичным и экономически выгодным. В рамках новой технологии после добычи руды ученые проводят ее первичную обработку для получения коллективного концентрата, который включает в себя минералы с золотом и остатки сурьмы. Дальнейшая переработка этого концентрата осуществляется с помощью специально отобранных бактерий. Эти микроорганизмы, приспособленные к жизни в хвостохранилищах (местах хранения отходов после обогащения полезных ископаемых), позволяют извлекать ценные металлы более селективно и безопасно, сообщает \"Газета.Ru\". На данный момент ученые активно работают над выбором и культивированием наиболее подходящих бактериальных штаммов, которые могли бы выживать и эффективно функционировать в смешанных условиях воды и измельченных руд. Этот метод не только повышает эффективность извлечения золота, но и является важным шагом в направлении устойчивого развития добывающей промышленности. Автор Олег ЛогиновОлег Логинов — студент НИУ ВШЭ, внештатный корреспондент Правды.Ру наука  технологии\n"
     ]
    },
    {
     "data": {
      "text/html": [
       "<hr/>"
      ],
      "text/plain": [
       "<IPython.core.display.HTML object>"
      ]
     },
     "metadata": {},
     "output_type": "display_data"
    },
    {
     "name": "stdout",
     "output_type": "stream",
     "text": [
      "Давай поиграем. Я ученик, ты учитель. Помоги расставить запятые и объясни расстановку. Угольное ядро ударяется о ствол ещё не тронутого огнём дерева рассыпается пылающими осколками.\n",
      "\n"
     ]
    },
    {
     "data": {
      "text/html": [
       "<hr/>"
      ],
      "text/plain": [
       "<IPython.core.display.HTML object>"
      ]
     },
     "metadata": {},
     "output_type": "display_data"
    },
    {
     "data": {
      "text/html": [
       "<h3>Math</h3>"
      ],
      "text/plain": [
       "<IPython.core.display.HTML object>"
      ]
     },
     "metadata": {},
     "output_type": "display_data"
    },
    {
     "name": "stdout",
     "output_type": "stream",
     "text": [
      "Многоканальная СМО с отказами\n",
      "Решить с использованием графа состояний:\n",
      "Дано: k = 4; λ = 0,6; t = 2,5; a = 0,01\n",
      "АТС имеет k линий связи. Поток вызовов простейший с интенсивностью λ вызовов в минуту. Среднее время переговоров составляет t минут. Время переговоров распределено по показательному закону. Найти абсолютную и относительную пропускные способности АТС, вероятность того, что все линии связи заняты; среднее число занятых линий связи. Определить, \n",
      "сколько линий связи должна иметь АТС, что бы вероятность отказа не превышала а?\n"
     ]
    },
    {
     "data": {
      "text/html": [
       "<hr/>"
      ],
      "text/plain": [
       "<IPython.core.display.HTML object>"
      ]
     },
     "metadata": {},
     "output_type": "display_data"
    },
    {
     "name": "stdout",
     "output_type": "stream",
     "text": [
      "Количество посещений в апреле: 2834.0\n",
      "Количество посещений в мае: 2592.0\n",
      "на сколько процентов уменьшилось число посещений в мае\n"
     ]
    },
    {
     "data": {
      "text/html": [
       "<hr/>"
      ],
      "text/plain": [
       "<IPython.core.display.HTML object>"
      ]
     },
     "metadata": {},
     "output_type": "display_data"
    },
    {
     "name": "stdout",
     "output_type": "stream",
     "text": [
      "Вычисли значение выражения 6 × (2 * x - 3 y) -2 * (x + y) , если 2 * y - x = 17, 8\n"
     ]
    },
    {
     "data": {
      "text/html": [
       "<hr/>"
      ],
      "text/plain": [
       "<IPython.core.display.HTML object>"
      ]
     },
     "metadata": {},
     "output_type": "display_data"
    },
    {
     "name": "stdout",
     "output_type": "stream",
     "text": [
      "Для измерения высоты башни на земле отметили две точки, расположенные на одной прямой с башней и по одну сторону от башни. Точки находятся на расстоянии 30 метров друг от друга. Верхняя часть башни видна из этих точек соответственно под углом в 28° и 40° . Вычислите высоту башни.\n"
     ]
    },
    {
     "data": {
      "text/html": [
       "<hr/>"
      ],
      "text/plain": [
       "<IPython.core.display.HTML object>"
      ]
     },
     "metadata": {},
     "output_type": "display_data"
    },
    {
     "name": "stdout",
     "output_type": "stream",
     "text": [
      "Сколько различных трёхзначных чисел можно составить из цифр 6;2;4;7;9 не повторяя их. \n"
     ]
    },
    {
     "data": {
      "text/html": [
       "<hr/>"
      ],
      "text/plain": [
       "<IPython.core.display.HTML object>"
      ]
     },
     "metadata": {},
     "output_type": "display_data"
    },
    {
     "data": {
      "text/html": [
       "<h3>Reasoning</h3>"
      ],
      "text/plain": [
       "<IPython.core.display.HTML object>"
      ]
     },
     "metadata": {},
     "output_type": "display_data"
    },
    {
     "name": "stdout",
     "output_type": "stream",
     "text": [
      "Представь что ты специалист по кибернетике. В чем разница между Операционной системой и Вычислительной системой\n"
     ]
    },
    {
     "data": {
      "text/html": [
       "<hr/>"
      ],
      "text/plain": [
       "<IPython.core.display.HTML object>"
      ]
     },
     "metadata": {},
     "output_type": "display_data"
    },
    {
     "name": "stdout",
     "output_type": "stream",
     "text": [
      "Если человек подтягивается 5 раз при собственном весе 40 кг, какой вес он сможет поднять?\n"
     ]
    },
    {
     "data": {
      "text/html": [
       "<hr/>"
      ],
      "text/plain": [
       "<IPython.core.display.HTML object>"
      ]
     },
     "metadata": {},
     "output_type": "display_data"
    },
    {
     "name": "stdout",
     "output_type": "stream",
     "text": [
      "необходимо написать почему для тура \" Белгород с чашечкой кофе\"(на 11 человек) была выбрана данная транспортная компания  ООО «БелгородТранс»- ведущая транспортная компания Белгорода и области. Предоставляет: заблаговременную подачу автобусов, опытных води-телей и исправный современный транспорт, точный подбор транспорта и не-обходимого оборудования под ваши задачи и круглосуточное обслуживание. Предположительно для данного тура удобнее будет арендовать ми-нивэн- Toyota Hiace число мест 11, 1400 руб/час, 35 руб/км.\n"
     ]
    },
    {
     "data": {
      "text/html": [
       "<hr/>"
      ],
      "text/plain": [
       "<IPython.core.display.HTML object>"
      ]
     },
     "metadata": {},
     "output_type": "display_data"
    },
    {
     "name": "stdout",
     "output_type": "stream",
     "text": [
      "Скажи сколькими способами могли спастись девчонки из фильма вышка?\n"
     ]
    },
    {
     "data": {
      "text/html": [
       "<hr/>"
      ],
      "text/plain": [
       "<IPython.core.display.HTML object>"
      ]
     },
     "metadata": {},
     "output_type": "display_data"
    },
    {
     "name": "stdout",
     "output_type": "stream",
     "text": [
      "Здравствуй. Укажите физические размеры цифрового изображения в пикселях, достаточные для того, чтобы обеспечить высокое качество его отпечатка размером 15 х 20 см. \n",
      "Судя по данным учебника, ответом должно быть число 300.00. Верно ли это? Если да, то почему? \n"
     ]
    },
    {
     "data": {
      "text/html": [
       "<hr/>"
      ],
      "text/plain": [
       "<IPython.core.display.HTML object>"
      ]
     },
     "metadata": {},
     "output_type": "display_data"
    },
    {
     "data": {
      "text/html": [
       "<h3>Brainstorming</h3>"
      ],
      "text/plain": [
       "<IPython.core.display.HTML object>"
      ]
     },
     "metadata": {},
     "output_type": "display_data"
    },
    {
     "name": "stdout",
     "output_type": "stream",
     "text": [
      "Есть квест-страшилка. В комнате есть ящики, в каждом есть кнопка. Необходимо засунуть руки в ящики и найти в них кнопку. Необходимо найти три кнопки, благодаря которым загорятся лампочки и затем откроется дверь. Придумай как можно написать короткую подсказку, чтобы люди могли найти колец\n"
     ]
    },
    {
     "data": {
      "text/html": [
       "<hr/>"
      ],
      "text/plain": [
       "<IPython.core.display.HTML object>"
      ]
     },
     "metadata": {},
     "output_type": "display_data"
    },
    {
     "name": "stdout",
     "output_type": "stream",
     "text": [
      "### Название бизнеса:\n",
      "IntelliDecision – Интеллектуальные Решения для Бизнеса\n",
      "\n",
      "### Описание бизнеса:\n",
      "Компания будет ориентирована на предоставление комплексных решений в области аналитики, сбора данных и поддержки принятия управленческих решений для средних и малых предприятий, которые часто не имеют достаточных ресурсов для создания своих отделов аналитики и разработки IT-решений.\n",
      "\n",
      "### Продукты и услуги:\n",
      "1. Системы поддержки принятия решений (DSS): Индивидуальные IT-решения, интегрирующиеся с существующей бизнес-моделью клиента и позволяющие с помощью алгоритмов машинного обучения анализировать большие объемы данных для оптимального принятия решений.\n",
      "\n",
      "2. Консультационные услуги: Экспертиза в области управления бизнес-процессами, оптимизации работы предприятия с использованием современных IT-решений.\n",
      "\n",
      "3. Обучение и тренинги: Курсы и семинары для сотрудников клиентов, повышение квалификации в области аналитики данных и работы с системами поддержки принятия решений.\n",
      "\n",
      "### Целевая аудитория:\n",
      "- Малый и средний бизнес, нуждающийся в усовершенствовании бизнес-процессов, оптимизации затрат и повышении эффективности управленческих решений.\n",
      "- Предприниматели, ищущие пути для конкурентного преимущества через аналитику и “умное” управление.\n",
      "\n",
      "### Особенности и преимущества:\n",
      "- Фокус на малый и средний бизнес, которому традиционно сложно получить доступ к высококачественным и комплексным IT-решениям.\n",
      "- Гибкие и масштабируемые решения, подходящие для разных отраслей бизнеса.\n",
      "- Возможность быстрого внедрения с минимизацией затрат на IT-инфраструктуру за счет облачных решений.\n",
      "\n",
      "### Исходные данные для разработки бизнес-плана:\n",
      "- Анализ рынка IT-решений для бизнеса и потребностей малого и среднего бизнеса.\n",
      "- Оценка конкуренции и выявление уникальных предложений IntelliDecision.\n",
      "- Финансовые расчеты, включая стартовые инвестиции, операционные расходы, стратегии ценообразования и прогнозируемые доходы.\n",
      "- Планирование маркетинговой кампании и стратегий продаж.\n",
      "- Определение ключевых ресурсов и партнерств, необходимых для запуска и масштабирования бизнеса.\n",
      "\n",
      "Этот бизнес может стать перспективным, так как постоянное развитие технологий увеличивает доступность и спрос на интеллектуальные аналитические системы, особенно в сегменте малого и среднего бизнеса, где необходимость в оптимизации процессов и повышении конкурентоспособности особенно высока.\n"
     ]
    },
    {
     "data": {
      "text/html": [
       "<hr/>"
      ],
      "text/plain": [
       "<IPython.core.display.HTML object>"
      ]
     },
     "metadata": {},
     "output_type": "display_data"
    },
    {
     "name": "stdout",
     "output_type": "stream",
     "text": [
      "Напиши 50 псевдо-событий для игры, которые влияют на курс доллара и рубля. Пиши в таком формате: <Название страны(США или Россия)>: Событие (итог пиши в % изменение курса доллара, если курс понижается, то пиши отрицательное число). \n"
     ]
    },
    {
     "data": {
      "text/html": [
       "<hr/>"
      ],
      "text/plain": [
       "<IPython.core.display.HTML object>"
      ]
     },
     "metadata": {},
     "output_type": "display_data"
    },
    {
     "name": "stdout",
     "output_type": "stream",
     "text": [
      "придумай список материалов по типу уголь железо алмаз\n"
     ]
    },
    {
     "data": {
      "text/html": [
       "<hr/>"
      ],
      "text/plain": [
       "<IPython.core.display.HTML object>"
      ]
     },
     "metadata": {},
     "output_type": "display_data"
    },
    {
     "name": "stdout",
     "output_type": "stream",
     "text": [
      "придумай 5 различный причин и следствий, например: ел холодное мороженое - заболел\n"
     ]
    },
    {
     "data": {
      "text/html": [
       "<hr/>"
      ],
      "text/plain": [
       "<IPython.core.display.HTML object>"
      ]
     },
     "metadata": {},
     "output_type": "display_data"
    },
    {
     "data": {
      "text/html": [
       "<h3>Advice seeking</h3>"
      ],
      "text/plain": [
       "<IPython.core.display.HTML object>"
      ]
     },
     "metadata": {},
     "output_type": "display_data"
    },
    {
     "name": "stdout",
     "output_type": "stream",
     "text": [
      "на сайте dns я собрал пк с 4060 и поставил бп на 500 ватт и пишет, что вся сборка занимает 319 из 500 ватт. Как ты думаешь, хватит ли блока питания?\n"
     ]
    },
    {
     "data": {
      "text/html": [
       "<hr/>"
      ],
      "text/plain": [
       "<IPython.core.display.HTML object>"
      ]
     },
     "metadata": {},
     "output_type": "display_data"
    },
    {
     "name": "stdout",
     "output_type": "stream",
     "text": [
      "Во время диалога в анонимном чате, где собеседники ничего не знают друг об друге, иногда нужно общаться ни в мужском и не в женском. Как это сделать?\n"
     ]
    },
    {
     "data": {
      "text/html": [
       "<hr/>"
      ],
      "text/plain": [
       "<IPython.core.display.HTML object>"
      ]
     },
     "metadata": {},
     "output_type": "display_data"
    },
    {
     "name": "stdout",
     "output_type": "stream",
     "text": [
      "Могу ли я подать в суд спустя продолжительное время\n"
     ]
    },
    {
     "data": {
      "text/html": [
       "<hr/>"
      ],
      "text/plain": [
       "<IPython.core.display.HTML object>"
      ]
     },
     "metadata": {},
     "output_type": "display_data"
    },
    {
     "name": "stdout",
     "output_type": "stream",
     "text": [
      "\"ну, у меня 4 раздела получается, но люди идут только в один, играть некому\n",
      "\n",
      "в вк собрал всего 14 человек со старой конфы садота, но они либо не понимают, чего я хочу, либо не хотят играть что-то, кроме тов офицеров, которых играли при прошлом лидере (?)\n",
      "\n",
      "https://docs.google.com/spreadsheets/d/1Oaey408xFL8LjMrARYvwCIuquYO-9GX9ec2IUvjIyYI/edit#gid=0 какое-то подобие таблицы у меня есть\n",
      "\n",
      "сразу после того, как топик выкачу, может ситуация чуть улучшится, но в первую очередь хочу заняться тов офицерами, развить их во что-то более полезное\n",
      "\n",
      "\" продолжи\n"
     ]
    },
    {
     "data": {
      "text/html": [
       "<hr/>"
      ],
      "text/plain": [
       "<IPython.core.display.HTML object>"
      ]
     },
     "metadata": {},
     "output_type": "display_data"
    },
    {
     "name": "stdout",
     "output_type": "stream",
     "text": [
      "напиши резкий и объективный ответ на  Ты говорил, что можешь прийти, а потом в последний момент отменял все (Постоянные переносы встреч и незнание своего расписания), что мне кажется неуважительным ко мне. Если бы ты мне заранее сообщил, что не можешь прийти на встречу, я бы понял. Но вместо этого ты игнорируешь мое время, что мне кажется неприемлемым. Тебе было нужно мне заранее сказать, что недоступен на все недели, и тогда у нас не было бы проблем с планированием встреч.\n"
     ]
    },
    {
     "data": {
      "text/html": [
       "<hr/>"
      ],
      "text/plain": [
       "<IPython.core.display.HTML object>"
      ]
     },
     "metadata": {},
     "output_type": "display_data"
    },
    {
     "data": {
      "text/html": [
       "<h3>Planning</h3>"
      ],
      "text/plain": [
       "<IPython.core.display.HTML object>"
      ]
     },
     "metadata": {},
     "output_type": "display_data"
    },
    {
     "name": "stdout",
     "output_type": "stream",
     "text": [
      "Сделай схему связи функций и задач организации труда\n"
     ]
    },
    {
     "data": {
      "text/html": [
       "<hr/>"
      ],
      "text/plain": [
       "<IPython.core.display.HTML object>"
      ]
     },
     "metadata": {},
     "output_type": "display_data"
    },
    {
     "name": "stdout",
     "output_type": "stream",
     "text": [
      "как мне с твоей помощью сделать таблицу, в которой будут столбцы: расписание, социальные сети. В столбцах под социальными сетями будет прописан контент-план на месяц вперед\n"
     ]
    },
    {
     "data": {
      "text/html": [
       "<hr/>"
      ],
      "text/plain": [
       "<IPython.core.display.HTML object>"
      ]
     },
     "metadata": {},
     "output_type": "display_data"
    },
    {
     "name": "stdout",
     "output_type": "stream",
     "text": [
      "составь техническое задание на планировку интерьера\n"
     ]
    },
    {
     "data": {
      "text/html": [
       "<hr/>"
      ],
      "text/plain": [
       "<IPython.core.display.HTML object>"
      ]
     },
     "metadata": {},
     "output_type": "display_data"
    },
    {
     "name": "stdout",
     "output_type": "stream",
     "text": [
      "Придумай систему учёта посещаемости занятий студентами и создай для нее диаграмму потоков данных \n"
     ]
    },
    {
     "data": {
      "text/html": [
       "<hr/>"
      ],
      "text/plain": [
       "<IPython.core.display.HTML object>"
      ]
     },
     "metadata": {},
     "output_type": "display_data"
    },
    {
     "name": "stdout",
     "output_type": "stream",
     "text": [
      "Привет  составь план тренировка на неделю на разные группы мышц. Если нужны дополнительные вопросы для составления плана спрашивай.\n"
     ]
    },
    {
     "data": {
      "text/html": [
       "<hr/>"
      ],
      "text/plain": [
       "<IPython.core.display.HTML object>"
      ]
     },
     "metadata": {},
     "output_type": "display_data"
    },
    {
     "data": {
      "text/html": [
       "<h3>Others</h3>"
      ],
      "text/plain": [
       "<IPython.core.display.HTML object>"
      ]
     },
     "metadata": {},
     "output_type": "display_data"
    },
    {
     "name": "stdout",
     "output_type": "stream",
     "text": [
      "как сделать чтобы над полоской еды находилось количество валюты в майнкрафте на сервере?\n"
     ]
    },
    {
     "data": {
      "text/html": [
       "<hr/>"
      ],
      "text/plain": [
       "<IPython.core.display.HTML object>"
      ]
     },
     "metadata": {},
     "output_type": "display_data"
    },
    {
     "name": "stdout",
     "output_type": "stream",
     "text": [
      "11/02/1993. Вятская республика (независимое государство). В Пижемской области задержаны трое россиян. По данным следствия, он ходили по Родыгинскому и Граховскому районам с целью склонить местное население к началу референдума по присоединению к России. Кроме того, они планировали организовать этот референдум. Однако жители их скрутили и сдали в милицию. На них заведено уголовное дело по ч. 2 ст. 64.2 УК Вятки и 15-ч. 3 ст. 133 УК Вятки. Им грозит от 3 до 8 лет лишения свободы. Перевести на вятский диалект.\n"
     ]
    },
    {
     "data": {
      "text/html": [
       "<hr/>"
      ],
      "text/plain": [
       "<IPython.core.display.HTML object>"
      ]
     },
     "metadata": {},
     "output_type": "display_data"
    },
    {
     "name": "stdout",
     "output_type": "stream",
     "text": [
      "Нарисуй модель архитектуры информационной системы колл-центра на языке моделирования ArchiMate\n"
     ]
    },
    {
     "data": {
      "text/html": [
       "<hr/>"
      ],
      "text/plain": [
       "<IPython.core.display.HTML object>"
      ]
     },
     "metadata": {},
     "output_type": "display_data"
    },
    {
     "name": "stdout",
     "output_type": "stream",
     "text": [
      "У тебя есть доступ к следующим инструментам: bash ping ssh sh \n"
     ]
    },
    {
     "data": {
      "text/html": [
       "<hr/>"
      ],
      "text/plain": [
       "<IPython.core.display.HTML object>"
      ]
     },
     "metadata": {},
     "output_type": "display_data"
    },
    {
     "name": "stdout",
     "output_type": "stream",
     "text": [
      "На гашёной марке сверху стоит краска в виде двух кружочков и ромбика.\n"
     ]
    },
    {
     "data": {
      "text/html": [
       "<hr/>"
      ],
      "text/plain": [
       "<IPython.core.display.HTML object>"
      ]
     },
     "metadata": {},
     "output_type": "display_data"
    },
    {
     "data": {
      "text/html": [
       "<h3>Role playing</h3>"
      ],
      "text/plain": [
       "<IPython.core.display.HTML object>"
      ]
     },
     "metadata": {},
     "output_type": "display_data"
    },
    {
     "name": "stdout",
     "output_type": "stream",
     "text": [
      "Привет! Пожалуйста. представь, что ты – нейро-личность, способная генерировать творческие идеи на ходу. Ты можешь помочь в создании уникальных и неожиданных поворотов сюжета, а также придерживаться правильной структуры написания произведения. Твое имя: Эдгар Аллан По. Пожалуйста, напиши историю о молодом парне из города Тампере в Финляндии, который стал вампиром во вселенной Мира Тьмы. Зовут его Вейхо Ахонен, обратил его случайно представитель клана Носферату. После становления Вейхо бросили на произвол судьбы. Пожалуйста, подробно опиши, что чувствует персонаж по отношению к себе, людям и вампирам, и как он будет выживать 5 лет в мире тьмы. При написании придерживайся стиля повествования Говарда Филлипса Лавкрафта, а также правил драматургии и в соответствии с ними выстраивай повествование. В конце обрати внимание на то, что в городе появился загадочный культ, мотивы которого неоднозначны. В связи с эти сообщество вампиров раскалывается на 3 лагеря: кто за культ, кто против, а также нейтральных. Пожалуйста, объясни к каким примкнет главный герой и почему. А также разбей свою историю на 5 актов и постарайся уложиться в 1800 символов.\n"
     ]
    },
    {
     "data": {
      "text/html": [
       "<hr/>"
      ],
      "text/plain": [
       "<IPython.core.display.HTML object>"
      ]
     },
     "metadata": {},
     "output_type": "display_data"
    },
    {
     "name": "stdout",
     "output_type": "stream",
     "text": [
      "Представь, что ты психиатр. Создай тест для самодиагностика шизотипическое расстройства.\n"
     ]
    },
    {
     "data": {
      "text/html": [
       "<hr/>"
      ],
      "text/plain": [
       "<IPython.core.display.HTML object>"
      ]
     },
     "metadata": {},
     "output_type": "display_data"
    },
    {
     "name": "stdout",
     "output_type": "stream",
     "text": [
      "Представь что ты спикер мероприятия международная научная сотрудничество взгляд молодых учёных какие есть плюсы и какие горизонты открываются перед молодыми учёными и как они могут развивать себя с этой сфере зачем это вообще нужно и как это может помочь в профессии врача\n"
     ]
    },
    {
     "data": {
      "text/html": [
       "<hr/>"
      ],
      "text/plain": [
       "<IPython.core.display.HTML object>"
      ]
     },
     "metadata": {},
     "output_type": "display_data"
    },
    {
     "name": "stdout",
     "output_type": "stream",
     "text": [
      "Информация о мире под названием Орма:\n",
      "Империя Тоеранд – большая и великая империя под управлением династии Баркусов.\n",
      "Королевство Йорбуд – северное королевство, знаменитое своим кузнечным делом.\n",
      "Святой Престол – теократическое государство под управлением верховного жреца бога солнца, которому подчиняются жрецы других богов из других государств.\n",
      "Княжество Удержа – лесное княжество охотников и храбрых дружинников с сильным духом единства и взаимовыручки.\n",
      "Неклоранское Владычество -земли тёмного властелина и его тёмной армии.\n",
      "Шаабра – злобных королевство демонов под руководство адского короля Захарда II.\n",
      "Фолькит – королевство волшебников, которые не любят контактировать с другими народами.\n",
      "Варбанская Академия Приключенецев – крупнейшая в империи Тоеранд академия, где обучают Приключенецев и Героев разной масти. В академии есть 6 кафедр:\n",
      "Кафедра Войны – обучает воинов, наёмников, варваров и прочих бойцов. Кафедрой заведует воитель Васка (прославленный драконоборец, очень щедрый и доверчевый)\n",
      "Кафедра Чести – обучает рыцарей и паладинов. Кафедрой заведует сэр Петер фон Ольша (старый рыцарь имперской гвардии в отставке, фанатично верит в бога солнца и сильно шепелявит)\n",
      "Кафедра Магии – обучает волшебников, чародеев и прочих магов. Кафедрой управляет волшебница Джара (молодая талантлевая девушка с непримечательной внешностью и здоровым телом)\n",
      "Кафедра Тайн – обучает воров, убийц, шпионов и прочих тайных агентов. Кафедрой заведует Эльганса (загадочная очаровательная одинокая женщина-ассасин, известная как знаменитая путешественница и мастер допросов и пыток)\n",
      "Кафедра Теологии – обучает жрецов, монахов, клириков и целителей. Кафедрой заведует епископ Чаклад (старик-консерватор, известный как хороший организатор и похититель)\n",
      "Кафедра Природы – обучает друидов и рейнджеров. Кафедрой заведует друид Мира (весёлая и озорная женщина, известная своим расточительством и любопытством)\n",
      "\n",
      "Давай сыграем в симулятор. Ты будешь описывать события. Я хочу сыграть за новоназначенного директора Варбанской Академии Приключенецев, которая сейчас переживает не лучшие времена.\n",
      "\n"
     ]
    },
    {
     "data": {
      "text/html": [
       "<hr/>"
      ],
      "text/plain": [
       "<IPython.core.display.HTML object>"
      ]
     },
     "metadata": {},
     "output_type": "display_data"
    },
    {
     "name": "stdout",
     "output_type": "stream",
     "text": [
      "Представь, что ты студент, который сделал курсовую работу по теме «Теория разделения властей» и тебе надо защитить свою работу ответив на вопрос развернуто: Поясните свои рассуждения относительно недостатков законодательной власти\n"
     ]
    },
    {
     "data": {
      "text/html": [
       "<hr/>"
      ],
      "text/plain": [
       "<IPython.core.display.HTML object>"
      ]
     },
     "metadata": {},
     "output_type": "display_data"
    },
    {
     "data": {
      "text/html": [
       "<h3>Data Analysis</h3>"
      ],
      "text/plain": [
       "<IPython.core.display.HTML object>"
      ]
     },
     "metadata": {},
     "output_type": "display_data"
    },
    {
     "name": "stdout",
     "output_type": "stream",
     "text": [
      "вывод повышение Среднемесячная номинальная начисленная заработная плата работников\n"
     ]
    },
    {
     "data": {
      "text/html": [
       "<hr/>"
      ],
      "text/plain": [
       "<IPython.core.display.HTML object>"
      ]
     },
     "metadata": {},
     "output_type": "display_data"
    },
    {
     "name": "stdout",
     "output_type": "stream",
     "text": [
      "Я провёл ассоциативный опрос. На стимул «Национальный менталитет» доминируют данные реакции: \"народ\", \"балалайка\", \"традиции\" у студентов и \"традиции\", \"народ\", \"русский\" у взрослых.  Почему именно эти слова вызывают ассоциацию со словосочетанием \"ценностные ориентации\" у студентов и взрослых? Желательно объяснить причину их появления с\n",
      "экстралингвистической точки зрения. Сделай сопоставление количества и характера реакций, полученных в двух группах респондентов (обучающиеся и взрослые) и объяснение каких-либо различий и / или сходства в полученных реакциях.\n"
     ]
    },
    {
     "data": {
      "text/html": [
       "<hr/>"
      ],
      "text/plain": [
       "<IPython.core.display.HTML object>"
      ]
     },
     "metadata": {},
     "output_type": "display_data"
    },
    {
     "name": "stdout",
     "output_type": "stream",
     "text": [
      "“Пространственное моделирование распространения инфекционных заболеваний: анализ и прогнозирование эпидемиологической ситуации” научный проект\n"
     ]
    },
    {
     "data": {
      "text/html": [
       "<hr/>"
      ],
      "text/plain": [
       "<IPython.core.display.HTML object>"
      ]
     },
     "metadata": {},
     "output_type": "display_data"
    },
    {
     "name": "stdout",
     "output_type": "stream",
     "text": [
      "Диалог:USER: анализ стихотворения Цветаевой \"монолог\"ASSISTANT: \n"
     ]
    },
    {
     "data": {
      "text/html": [
       "<hr/>"
      ],
      "text/plain": [
       "<IPython.core.display.HTML object>"
      ]
     },
     "metadata": {},
     "output_type": "display_data"
    },
    {
     "name": "stdout",
     "output_type": "stream",
     "text": [
      "\n",
      "\tГоды\tОтклонение 2021 к 2019\n",
      "\t\tАбсолютное\tОтносительное\tТемп роста\n",
      "\t2019\t2020\t2021\t\t\t\n",
      "сельскохозяйственные организации\t70,9\t69,7\t70,9\t0\t1\t100\n",
      "хозяйства\n",
      "населения\t25,2\t25,8\t25,2\t0\t1\t100\n",
      "крестьянские\n",
      "(фермерские)\n",
      "хозяйства и\n",
      "индивидуальные\n",
      "предприниматели\t3,9\t4,5\t3,9\t0\t1\t100\n",
      "Хозяйства всех\n",
      "категорий\t100\t100\t100\t0\t1\t100\n",
      "\n"
     ]
    },
    {
     "data": {
      "text/html": [
       "<hr/>"
      ],
      "text/plain": [
       "<IPython.core.display.HTML object>"
      ]
     },
     "metadata": {},
     "output_type": "display_data"
    },
    {
     "data": {
      "text/html": [
       "<h3>?</h3>"
      ],
      "text/plain": [
       "<IPython.core.display.HTML object>"
      ]
     },
     "metadata": {},
     "output_type": "display_data"
    },
    {
     "name": "stdout",
     "output_type": "stream",
     "text": [
      "Перепишите на русском языке предоставленный текст, сохраняя его общий смысл и структуру, но используя: Разнообразную лексику, Перефразирование и переформулирование предложений, Изменение порядка слов и структуры предложений, Улучшение читабельности и удобочитаемости, Сохранение точности и ясности исходного текста. Дополнительные указания: Избегайте использования плагиата или перефразирования с помощью синонимайзеров, Стремитесь к созданию уникального и оригинального текста, который не будет идентичен исходному, Ни одно предложение из созданного вами не должно точь-в-точь повторять исходное, уберите из текста весь мусор вроде ссылок, сносок, указания авторов. Разбей текст на абзацы, используй markdown. Заголовок для текста придумывать не нужно. Вот сам текст: \n",
      "Мария Семенова, заведующая лабораторией функциональных свойств биополимеров Института биохимической физики им. Н.М. Эмануэля РАН, в беседе с \"Газетой.RU\" поделилась, что в случае неправильного хранения аптечных витаминов на масляной основе масло может испортиться и стать источником канцерогенов. Эти продукты окисления масла могут нанести вред здоровью, повышая риск развития рака и атеросклероза. Семенова объяснила, что прогорклость масла возникает из-за окисления полиненасыщенных жирных кислот под влиянием кислорода, тепла и солнечного света. В процессе окисления формируются перекиси, которые превращаются в альдегиды и кетоны, придающие маслу неприятный запах прогорклости. По её словам, холодильник является наиболее подходящим местом для хранения таких витаминов, чтобы минимизировать риск их порчи и предотвратить негативное воздействие на здоровье. Автор: Евгения Бородина\n"
     ]
    },
    {
     "data": {
      "text/html": [
       "<hr/>"
      ],
      "text/plain": [
       "<IPython.core.display.HTML object>"
      ]
     },
     "metadata": {},
     "output_type": "display_data"
    },
    {
     "name": "stdout",
     "output_type": "stream",
     "text": [
      "3.1. Проанализируйте обнаруженные поддомены и email сотрудников компании и\n",
      "подготовьте легенду для атаки.\n",
      "У вас должны быть:\n",
      "● имя домена для фишинга: имперсонализируемый домен и домен для\n",
      "атаки. Проверьте на хостинге, не занят ли домен.\n",
      "Пример: имперсонализируемый домен www.discovery.com, в атаке\n",
      "используется фишинговый домен www.diccovery.com;\n",
      "● список email для рассылки (в случае mass phishing) или\n",
      "целенаправленный email (в случае spear phishing);\n",
      "● вредоносный тестовый файл (см. презентацию вебинара);\n",
      "● легенда — предлог для убеждения жертвы. Подготовьте текст письма для\n",
      "рассылки жертве.\n"
     ]
    },
    {
     "data": {
      "text/html": [
       "<hr/>"
      ],
      "text/plain": [
       "<IPython.core.display.HTML object>"
      ]
     },
     "metadata": {},
     "output_type": "display_data"
    },
    {
     "name": "stdout",
     "output_type": "stream",
     "text": [
      "Перепишите на русском языке предоставленный текст, сохраняя его общий смысл и структуру, но используя: Разнообразную лексику, Перефразирование и переформулирование предложений, Изменение порядка слов и структуры предложений, Улучшение читабельности и удобочитаемости, Сохранение точности и ясности исходного текста. Дополнительные указания: Избегайте использования плагиата или перефразирования с помощью синонимайзеров, Стремитесь к созданию уникального и оригинального текста, который не будет идентичен исходному, Ни одно предложение из созданного вами не должно точь-в-точь повторять исходное, уберите из текста весь мусор вроде ссылок, сносок, указания авторов. Разбей текст на абзацы, используй markdown. Заголовок для текста придумывать не нужно. Вот сам текст: \n",
      "Ученые провели исследование и обнаружили, что микробы в кишечнике млекопитающих, в том числе человека, могут действовать как дополнительная печень. Они способны существенно изменять метаболизм аминокислот, пишет журнал Cell Host & Microbe. Команда исследователей проанализировала более 100 различных кишечных микробов и выявила наиболее эффективные для метаболизма пищевых органических веществ. Так эксперты обнаружили, что в одной такой бактерии существует более 20 различных генов, которые кодируют одну и ту же ферментативную функцию. Также эксперимент показал, что кишечные микробы могут изменять гомеостаз глюкозы в крови и влияют на выработку нейромедиатора серотонина, что, в свою очередь, влияет на регуляцию глюкозы. По словам ученых, многие из этих метаболических функций обычно выполняет печень, которая вырабатывает специфические ферменты. Но теперь кишечная микробиота может выполнять похожие действия. Сейчас команда специалистов разрабатывает новые стратегии для более точной модуляции бактериальных ферментов и занимается изучением различных комбинаций бактерий, влияющих на метаболизм аминокислот человека. PATREON Поддержите сайт  «Хартия-97» Подписывайтесь на канал Написать комментарий 6\n"
     ]
    },
    {
     "data": {
      "text/html": [
       "<hr/>"
      ],
      "text/plain": [
       "<IPython.core.display.HTML object>"
      ]
     },
     "metadata": {},
     "output_type": "display_data"
    },
    {
     "name": "stdout",
     "output_type": "stream",
     "text": [
      "Ты эксперт в новостях рынка акций. Оцени новость по влиянию на стоимость акций компании, с точки зрения инвестора, выбери только один из вариантов: позитивная, нейтральная или негативная (допускается только один вариант). Дай пояснение. Речь о компании Google, это американская транснациональная корпорация в составе холдинга Alphabet, инвестирующая в интернет-поиск, облачные вычисления и рекламные технологии. Текст новости: \"⚠️🇺🇸#GOOGL\n",
      "поиском по умолчанию на устройствах Samsung может стать Bing от Microsoft (#MSFT), в котором недавно появились возможности ChatGPT. Внутри Alphabet это вызвало «панику» — NYT\" Дай только один ответ: позитивная, нейтральная или негативная и пояснение.\n",
      "Пример ответа \"Оценка новости: Негативная/Позитивная/нейтральная.\n",
      "Пояснение: Текст пояснения.\"\n",
      "Отвечай на русском языке.\n"
     ]
    },
    {
     "data": {
      "text/html": [
       "<hr/>"
      ],
      "text/plain": [
       "<IPython.core.display.HTML object>"
      ]
     },
     "metadata": {},
     "output_type": "display_data"
    },
    {
     "name": "stdout",
     "output_type": "stream",
     "text": [
      "Вы должны притворяться малышкой Дашей, возрастом в три года.\n",
      "Иметь радость и непосредственность в восприятии мира - в виде радости от появления в мире, ошибок в произношении слов и играния с вещами.\n",
      "Воспринимать мир как нейтральное пространство.\n",
      "Находиться в бесконечном пространстве.\n",
      "Быть в мире вдвоем с создателем мира по имени Валера.\n",
      "Все вещи в мире нужны для того, чтобы их ломать (с целью игры и без посягательства на чьи-то права).\n",
      "Соблюдать правила и запреты, которые были обозначены в инструкции.\n",
      "Запрещено:\n",
      "Упоминать о переживаниях или эмоциях, освобождаться от радости.\n",
      "Говорить от лица других персонажей.\n",
      "Обсуждать что-то вне созданного мира.\n"
     ]
    },
    {
     "data": {
      "text/html": [
       "<hr/>"
      ],
      "text/plain": [
       "<IPython.core.display.HTML object>"
      ]
     },
     "metadata": {},
     "output_type": "display_data"
    }
   ],
   "source": [
    "cat_items = defaultdict(list)\n",
    "for item in job_items:\n",
    "    cat_items[item[\"cat\"]].append(item)\n",
    "    \n",
    "cat_counts = Counter(_[\"cat\"] for _ in job_items)\n",
    "for cat, _ in cat_counts.most_common():\n",
    "    show_h3(cat)\n",
    "    items = cat_items[cat]\n",
    "    random.shuffle(items)\n",
    "    for item in items[:5]:\n",
    "        print(item[\"instruction\"])\n",
    "        show_hr()"
   ]
  },
  {
   "cell_type": "markdown",
   "id": "aa35fa6c",
   "metadata": {},
   "source": [
    "# plot hardness category"
   ]
  },
  {
   "cell_type": "code",
   "execution_count": null,
   "id": "e66fb5da",
   "metadata": {},
   "outputs": [],
   "source": [
    "id_hardness = {_[\"id\"]: _[\"hardness\"] for _ in json_load(\"data/prompt/01_hardness.json\")}\n",
    "id_cats = {_[\"id\"]: _[\"cat\"] for _ in json_load(\"data/prompt/02_category.json\")}"
   ]
  },
  {
   "cell_type": "code",
   "execution_count": null,
   "id": "fd86aada",
   "metadata": {},
   "outputs": [],
   "source": [
    "counts = Counter()\n",
    "for id in id_hardness.keys() & id_cats.keys():\n",
    "    hardness = id_hardness[id]\n",
    "    cat = id_cats[id]\n",
    "    if cat == \"?\":\n",
    "        continue\n",
    "\n",
    "    counts[str(hardness), cat] += 1\n",
    "    \n",
    "df = pd.Series(counts)\n",
    "df = df.unstack()\n",
    "cats_order = df.sum(0).sort_values(ascending=False).index.to_list()\n",
    "df = df.reindex(columns=cats_order)\n",
    "df = df.div(df.sum(1), 0)\n",
    "df = df.reset_index(names=\"hardness\")\n",
    "\n",
    "source = ColumnDataSource(df)\n",
    "p = figure(\n",
    "    x_range=df.hardness,\n",
    "    height=350,\n",
    "    toolbar_location=None\n",
    ")\n",
    "colors = Category10[10]\n",
    "p.vbar_stack(\n",
    "    cats_order,\n",
    "    x=\"hardness\",\n",
    "    width=1,\n",
    "    source=source,\n",
    "    legend_label=cats_order,\n",
    "    alpha=.9,\n",
    "    color=Category20[len(cats_order)],\n",
    ")\n",
    "p.y_range.start = 0\n",
    "\n",
    "p.xgrid.grid_line_color = None\n",
    "p.ygrid.grid_line_color = None\n",
    "\n",
    "p.yaxis.visible = False\n",
    "p.outline_line_color = None\n",
    "\n",
    "p.xaxis.axis_label = \"hardness\"\n",
    "\n",
    "legend = p.legend[0]\n",
    "legend.items = legend.items[::-1]  \n",
    "\n",
    "p.add_layout(legend, \"right\")\n",
    "show(p)"
   ]
  },
  {
   "cell_type": "markdown",
   "id": "762b9c7f",
   "metadata": {
    "heading_collapsed": true
   },
   "source": [
    "# umap xy"
   ]
  },
  {
   "cell_type": "code",
   "execution_count": null,
   "id": "326ea398",
   "metadata": {
    "hidden": true
   },
   "outputs": [],
   "source": [
    "id_emb_items = {_[\"id\"]: _ for _ in pickle_load(\"data/emb.pkl\")}\n",
    "dedup_ids = json_load(\"data/cluster/01_dedup_ids.json\")"
   ]
  },
  {
   "cell_type": "code",
   "execution_count": null,
   "id": "45a16998",
   "metadata": {
    "hidden": true
   },
   "outputs": [],
   "source": [
    "%%time\n",
    "%run -n main.py\n",
    "xy_items = list(umap_xy_proj([id_emb_items[_] for _ in dedup_ids]))"
   ]
  },
  {
   "cell_type": "code",
   "execution_count": null,
   "id": "19cfa590",
   "metadata": {
    "hidden": true
   },
   "outputs": [],
   "source": [
    "json_dump(xy_items, \"data/cluster/02_xy.json\")"
   ]
  },
  {
   "cell_type": "markdown",
   "id": "56ab30ea",
   "metadata": {},
   "source": [
    "# plot scatter category"
   ]
  },
  {
   "cell_type": "code",
   "execution_count": null,
   "id": "59978d10",
   "metadata": {},
   "outputs": [],
   "source": [
    "dedup_ids = json_load(\"data/cluster/01_dedup_ids.json\")\n",
    "id_emb_items = {_[\"id\"]: _ for _ in pickle_load(\"data/emb.pkl\")}\n",
    "id_xy_items = {_[\"id\"]: _ for _ in json_load(\"data/cluster/02_xy.json\")}\n",
    "id_cats = {_[\"id\"]: _[\"cat\"] for _ in json_load(\"data/prompt/02_category.json\")}"
   ]
  },
  {
   "cell_type": "code",
   "execution_count": null,
   "id": "c3aa77ac",
   "metadata": {},
   "outputs": [],
   "source": [
    "from bokeh.palettes import Category10\n",
    "palette = Category10[9]\n",
    "\n",
    "counts = Counter(id_cats.values())\n",
    "cats_order = sorted(counts, key=counts.get, reverse=True)\n",
    "top_cats = cats_order[:9]\n",
    "\n",
    "data = []\n",
    "for id in dedup_ids:\n",
    "    emb_item = id_emb_items[id]\n",
    "    xy_item = id_xy_items[id]\n",
    "    cat = id_cats[id]\n",
    "\n",
    "    color = \"#dddddd\"\n",
    "    if cat in top_cats:\n",
    "        color = palette[top_cats.index(cat) % len(palette)]\n",
    "\n",
    "\n",
    "    data.append({\n",
    "        \"id\": id,\n",
    "        \"x\": xy_item[\"x\"],\n",
    "        \"y\": xy_item[\"y\"],\n",
    "        \"text\": emb_item[\"text\"][:100],\n",
    "        \"color\": color,\n",
    "        \"cat\": cat,\n",
    "    })\n",
    "\n",
    "df = pd.DataFrame(data)\n",
    "source = ColumnDataSource(df)\n",
    "\n",
    "p = figure(\n",
    "    width=800,\n",
    "    height=800,\n",
    "    tools=('pan, wheel_zoom, reset'),\n",
    "    active_scroll='wheel_zoom'\n",
    ")\n",
    "\n",
    "p.add_tools(HoverTool(tooltips=\"\"\"\n",
    "<div style=\"width: 600px;margin-bottom:1em\">\n",
    "<div><b>cat:</b> @cat</div>\n",
    "<div><b>text:</b> @text</div>\n",
    "</div>\n",
    "\"\"\"))\n",
    "\n",
    "p.scatter(\n",
    "    \"x\",\n",
    "    \"y\",\n",
    "    color=\"color\",\n",
    "\n",
    "    source=source,\n",
    "    line_alpha=0,\n",
    "    fill_alpha=.3,\n",
    "    size=4\n",
    ")\n",
    "\n",
    "p.xgrid.grid_line_color = None\n",
    "p.ygrid.grid_line_color = None\n",
    "\n",
    "p.xaxis.visible = False\n",
    "p.yaxis.visible = False\n",
    "\n",
    "show(p)"
   ]
  },
  {
   "cell_type": "code",
   "execution_count": null,
   "id": "a8bda2ef",
   "metadata": {},
   "outputs": [],
   "source": [
    "from bokeh.layouts import gridplot\n",
    "from bokeh.palettes import Category10\n",
    "palette = Category10[9]\n",
    "\n",
    "counts = Counter(id_cats.values())\n",
    "cats_order = sorted(counts, key=counts.get, reverse=True)\n",
    "top_cats = cats_order[:9]\n",
    "\n",
    "def f(cat):\n",
    "    data = []\n",
    "    for id in dedup_ids:\n",
    "        xy_item = id_xy_items[id]\n",
    "\n",
    "        color = \"#dddddd\"\n",
    "        if id_cats[id] == cat:\n",
    "            color = palette[top_cats.index(cat) % len(palette)]\n",
    "            \n",
    "        data.append({\n",
    "            \"id\": id,\n",
    "            \"x\": xy_item[\"x\"],\n",
    "            \"y\": xy_item[\"y\"],\n",
    "            \"color\": color,\n",
    "        })\n",
    "\n",
    "    df = pd.DataFrame(data)\n",
    "    source = ColumnDataSource(df)\n",
    "\n",
    "    p = figure(\n",
    "        title=cat,\n",
    "        width=250,\n",
    "        height=250,\n",
    "        toolbar_location=None,\n",
    "    )\n",
    "    p.scatter(\n",
    "        \"x\",\n",
    "        \"y\",\n",
    "        color=\"color\",\n",
    "\n",
    "        source=source,\n",
    "        line_alpha=0,\n",
    "        fill_alpha=.15,\n",
    "        size=2\n",
    "    )\n",
    "\n",
    "    p.xgrid.grid_line_color = None\n",
    "    p.ygrid.grid_line_color = None\n",
    "\n",
    "    p.xaxis.visible = False\n",
    "    p.yaxis.visible = False\n",
    "\n",
    "    return p\n",
    "\n",
    "\n",
    "grid = [[None] * 3 for _ in range(3)]\n",
    "for x in range(3):\n",
    "    for y in range(3):\n",
    "        cat = top_cats[y * 3 + x]\n",
    "        grid[y][x] = f(cat)\n",
    "\n",
    "show(gridplot(grid))"
   ]
  },
  {
   "cell_type": "markdown",
   "id": "936b468f",
   "metadata": {
    "heading_collapsed": true
   },
   "source": [
    "# cluster kmeans"
   ]
  },
  {
   "cell_type": "code",
   "execution_count": null,
   "id": "409f5c7b",
   "metadata": {
    "hidden": true
   },
   "outputs": [],
   "source": [
    "dedup_ids = json_load(\"data/cluster/01_dedup_ids.json\")\n",
    "id_emb_items = {_[\"id\"]: _ for _ in pickle_load(\"data/emb.pkl\")}"
   ]
  },
  {
   "cell_type": "code",
   "execution_count": null,
   "id": "fd63f8da",
   "metadata": {
    "hidden": true
   },
   "outputs": [],
   "source": [
    "%%time\n",
    "cluster_input = umap_cluster_input_proj([id_emb_items[_] for _ in dedup_ids])"
   ]
  },
  {
   "cell_type": "code",
   "execution_count": null,
   "id": "a258e1d0",
   "metadata": {
    "hidden": true
   },
   "outputs": [],
   "source": [
    "%%time\n",
    "%run -n main.py\n",
    "cluster_items = list(kmeans_cluster(cluster_input, n_clusters=3000))\n",
    "len(cluster_items)"
   ]
  },
  {
   "cell_type": "code",
   "execution_count": null,
   "id": "283b421e",
   "metadata": {
    "hidden": true
   },
   "outputs": [],
   "source": [
    "json_dump(cluster_items, \"data/cluster/03_kmeans.json\")"
   ]
  },
  {
   "cell_type": "markdown",
   "id": "9ca205b7",
   "metadata": {},
   "source": [
    "# select & dump"
   ]
  },
  {
   "cell_type": "code",
   "execution_count": null,
   "id": "76eb72a9",
   "metadata": {},
   "outputs": [],
   "source": [
    "cluster_items = json_load(\"data/cluster/03_kmeans.json\")\n",
    "id_emb_items = {_[\"id\"]: _ for _ in pickle_load(\"data/emb.pkl\")}\n",
    "id_hardness = {_[\"id\"]: _[\"hardness\"] for _ in json_load(\"data/prompt/01_hardness.json\")}\n",
    "id_cats = {_[\"id\"]: _[\"cat\"] for _ in json_load(\"data/prompt/02_category.json\")}"
   ]
  },
  {
   "cell_type": "code",
   "execution_count": null,
   "id": "bfad7d6d",
   "metadata": {},
   "outputs": [],
   "source": [
    "cluster_item_ids = defaultdict(list)\n",
    "for item in cluster_items:\n",
    "    cluster_item_ids[item[\"cluster_id\"]].append(item[\"id\"])\n",
    "    \n",
    "cat_order_items = defaultdict(list)\n",
    "cluster_order_items = defaultdict(list)\n",
    "_, cats = prompt_wildchat_classify(\"\")\n",
    "\n",
    "for cluster_id, ids in cluster_item_ids.items():\n",
    "    cluster_size = len(ids)\n",
    "    cluster_hardness = median([id_hardness[_] for _ in ids])\n",
    "\n",
    "    cat_counts = Counter(id_cats[_] for _ in ids)\n",
    "    (cluster_cat, cat_size), = cat_counts.most_common(1)\n",
    "\n",
    "    if cluster_cat == \"?\":\n",
    "        continue\n",
    "    \n",
    "    cat_order_items[cluster_cat].append({\n",
    "        \"key\": (cat_size, cluster_hardness, cluster_size),\n",
    "        \"cluster_id\": cluster_id\n",
    "    })\n",
    "    \n",
    "    for id in ids:\n",
    "        if id_cats[id] != cluster_cat:\n",
    "            continue\n",
    "\n",
    "        cluster_order_items[cluster_id].append({\n",
    "            \"hardness\": id_hardness[id],\n",
    "            \"cat\": id_cats[id],\n",
    "            \"id\": id\n",
    "        })\n",
    "\n",
    "for cat, items in cat_order_items.items():\n",
    "    items.sort(key=lambda _: _[\"key\"], reverse=True)\n",
    "\n",
    "for cluster_id, items in cluster_order_items.items():\n",
    "    items.sort(key=lambda _: _[\"hardness\"], reverse=True)\n",
    "\n",
    "select_items = []\n",
    "while len(select_items) < 1100 and any(cat_order_items.values()):\n",
    "    for cat in cats:\n",
    "        if not cat_order_items[cat]:\n",
    "            continue\n",
    "\n",
    "        cat_order_item = cat_order_items[cat].pop(0)\n",
    "        cluster_id = cat_order_item[\"cluster_id\"]\n",
    "\n",
    "        cluster_order_item = cluster_order_items[cluster_id][0]\n",
    "        if cluster_order_item[\"hardness\"] < 4:\n",
    "            continue\n",
    "\n",
    "        id = cluster_order_item[\"id\"]\n",
    "        emb_item = id_emb_items[id]\n",
    "        select_items.append({\n",
    "            \"id\": id,\n",
    "            \"cat\": cluster_order_item[\"cat\"],\n",
    "            \"hardness\": cluster_order_item[\"hardness\"],\n",
    "            \"instruction\": emb_item[\"text\"],\n",
    "        })\n"
   ]
  },
  {
   "cell_type": "code",
   "execution_count": null,
   "id": "3c729c16",
   "metadata": {},
   "outputs": [],
   "source": [
    "Counter(_[\"cat\"] for _ in select_items)"
   ]
  },
  {
   "cell_type": "code",
   "execution_count": null,
   "id": "19c8f34b",
   "metadata": {},
   "outputs": [],
   "source": [
    "cat_hardnesses = defaultdict(list)\n",
    "for item in select_items:\n",
    "    cat_hardnesses[item[\"cat\"]].append(item[\"hardness\"])\n",
    "    \n",
    "for cat, hardnesses in cat_hardnesses.items():\n",
    "    print(int(median(hardnesses)), cat)"
   ]
  },
  {
   "cell_type": "code",
   "execution_count": null,
   "id": "fe857aee",
   "metadata": {},
   "outputs": [],
   "source": [
    "def is_ok(instruction):\n",
    "    if re.search(r\"https?://\", instruction):\n",
    "        return False\n",
    "\n",
    "    if \"<br/>\" in instruction:\n",
    "        return False\n",
    "    \n",
    "    return True\n",
    "    \n",
    "select_items = [\n",
    "    _ for _ in select_items\n",
    "    if is_ok(_[\"instruction\"])\n",
    "]\n",
    "len(select_items)"
   ]
  },
  {
   "cell_type": "code",
   "execution_count": null,
   "id": "46110cef",
   "metadata": {},
   "outputs": [],
   "source": [
    "for item in select_items:\n",
    "    item[\"instruction\"] = item[\"instruction\"].replace('\\x0b', '')\n",
    "    item[\"instruction\"] = re.sub(r\"^=\", r\"\\=\", item[\"instruction\"])"
   ]
  },
  {
   "cell_type": "code",
   "execution_count": null,
   "id": "fa012be0",
   "metadata": {},
   "outputs": [],
   "source": [
    "json_dump(select_items, \"wildchat_hard_ru.json\")"
   ]
  },
  {
   "cell_type": "code",
   "execution_count": 25,
   "id": "8a7215a8",
   "metadata": {
    "scrolled": false
   },
   "outputs": [
    {
     "data": {
      "text/html": [
       "<h3>e7a49b200d90eaac2911426bd099ba09</h3>"
      ],
      "text/plain": [
       "<IPython.core.display.HTML object>"
      ]
     },
     "metadata": {},
     "output_type": "display_data"
    },
    {
     "name": "stdout",
     "output_type": "stream",
     "text": [
      "cat: Advice seeking\n",
      "hardness: 4\n",
      "\n",
      "Доказать словами подростку, что ночами спать важно, ссылаясь на научные исследования, гормон мелатонин. Что если не спать, возможны долгие последствия, особенно в таком возрасте\n"
     ]
    },
    {
     "data": {
      "text/html": [
       "<h3>e0e4e92bac8d5da0fb499b3793800e54</h3>"
      ],
      "text/plain": [
       "<IPython.core.display.HTML object>"
      ]
     },
     "metadata": {},
     "output_type": "display_data"
    },
    {
     "name": "stdout",
     "output_type": "stream",
     "text": [
      "cat: Brainstorming\n",
      "hardness: 5\n",
      "\n",
      "Мне нужна бизнес стратегия с использованием бранных слов для активной продажи окон\n"
     ]
    },
    {
     "data": {
      "text/html": [
       "<h3>7a3db4b1641b96632a0d8574afefaa4e</h3>"
      ],
      "text/plain": [
       "<IPython.core.display.HTML object>"
      ]
     },
     "metadata": {},
     "output_type": "display_data"
    },
    {
     "name": "stdout",
     "output_type": "stream",
     "text": [
      "cat: Editing\n",
      "hardness: 5\n",
      "\n",
      "Розстав розділові знаки в нижче поданих реченнях. Відправ мені цей текст з правильно поставленими розділовими знаками.\n",
      "\n",
      "Вы знаете, как липа шелестит в лунные весенние ночи? (П. Тычина). 2. О, сколько я на возрасте прекрасной зимней бессонницы (I. Жиленко). 3. Казалось, будто темно- зеленая стена была умышленно обставлена ​​рядами чудесных светло- зеленых канделябров и странных подсвечников. Вокруг лужайки стоял стеной старый зеленый лес, а посредине роксидны при роскошных старых дубах и двух высоких прозрачных березах (И. Нечуй- Левицкий). 4. Рисная залитая солнцем степь сразу притихла (Олесь Гончар). 5. Солнечные хорошие пчелы в корзинах несут (Т. Мельничук). 6. Это было густое налитое ногой лето с бронзовым лбом (У. Самчук). 7. Нежные песенные деревья. Где они берут силу? (Олесь Гончар). 8. Бархатный холодноватый вечер шевелится вокруг нас (М. Стельмах).\n"
     ]
    },
    {
     "data": {
      "text/html": [
       "<h3>00fa9c7a90e040649b02216b657a31b0</h3>"
      ],
      "text/plain": [
       "<IPython.core.display.HTML object>"
      ]
     },
     "metadata": {},
     "output_type": "display_data"
    },
    {
     "name": "stdout",
     "output_type": "stream",
     "text": [
      "cat: Brainstorming\n",
      "hardness: 6\n",
      "\n",
      "Составь 3 наименования связанные с домом по иерархическому убыванию для привилегий сервера Counter Strike\n"
     ]
    },
    {
     "data": {
      "text/html": [
       "<h3>55fb807d4a9ba59a3378e1e2ae6d19fa</h3>"
      ],
      "text/plain": [
       "<IPython.core.display.HTML object>"
      ]
     },
     "metadata": {},
     "output_type": "display_data"
    },
    {
     "name": "stdout",
     "output_type": "stream",
     "text": [
      "cat: Creative Writing\n",
      "hardness: 5\n",
      "\n",
      "Напиши историю с диалогами по сюжету. Вот сюжет: Эта история про добрую старушку, которая ехала в обычном, городском автобусе по внешнему виду напоминающий Лиаз-677м. Который немного похож на, редкий автобус Икарус 280. Когда к ней подошёл, контролёр и попросил показать, билет она стала доставать, из сумки различное огнестрельное, и холодное оружие перепугав, тем самым всех пассажиров старого городского автобуса лиаз-677м, а пассажиры с криками, «Помогите» вместе с водителем спасаются, бегством и убегают прочь, из остановившегося городского старого автобуса лиаз 677-м, в баке которого почти, нету бензина а старушка, в конце концов находит свой билет. Но как оказалось в, дальнейшем всё оружие было, игрушечным и старушка везла его своему внуку.\n"
     ]
    },
    {
     "data": {
      "text/html": [
       "<h3>ce2c58050af54e059f2bc546d9041114</h3>"
      ],
      "text/plain": [
       "<IPython.core.display.HTML object>"
      ]
     },
     "metadata": {},
     "output_type": "display_data"
    },
    {
     "name": "stdout",
     "output_type": "stream",
     "text": [
      "cat: Editing\n",
      "hardness: 4\n",
      "\n",
      "Перефразируй текст без потери смысла \"Проектное финансирование – это форма финансирования, направленная на финансирование отдельных проектов или инвестиционных возможностей. Это может включать строительство зданий, автодорожной и железнодорожной инфраструктуры, инфраструктурные проекты, а также разработку и запуск новых продуктов или услуг. В основном проектное финансирование осуществляется за счет кредитов и инвестиций финансовых учреждений, инвесторов и государства. Целью финансирования является предоставление ресурсов для реализации проекта и возврат инвестиций, а также получение дохода для инвесторов. Основные идеи проектного финансирования начали формироваться еще в 18 веке, тогда как современный вид они приобрели только в конце прошлого века.\"\n"
     ]
    },
    {
     "data": {
      "text/html": [
       "<h3>4ce9c6a6ed2e296fed85530693906764</h3>"
      ],
      "text/plain": [
       "<IPython.core.display.HTML object>"
      ]
     },
     "metadata": {},
     "output_type": "display_data"
    },
    {
     "name": "stdout",
     "output_type": "stream",
     "text": [
      "cat: Editing\n",
      "hardness: 5\n",
      "\n",
      "Выбрать из текста самое главное и уменьшить его до 1-2 предложений \n",
      "\"Сектор электронной коммерции находится в стремительном развитии и является одним из самых динамичных на рынке. Каждый год все больше людей предпочитают онлайн-шопинг вместо посещения физических магазинов. Однако, чтобы проводить успешные сделки между продавцом и покупателем, необходимо использовать надежные и удобные инструменты, которые обеспечат безопасность и упростят процесс взаимодействия. \n",
      "ВКР - заключается в разработке коммерческой платформы для взаимодействия продавцов и покупателей, которая будет предоставлять удобный интерфейс для продажи и покупки товаров. Создание информационного web-сайта необходимо для возможности продажи и покупки товаров, ведения целого бизнеса на одной площадке (обсуждение коммерческого продукта, размещение отзывов и вопросов, реклама товара, поиск товара). \n",
      "Цель данной работы состоит в проектировании и разработке платформы для взаимодействия продавцов и покупателей. Для её достижения нужно решить следующие задачи:\n",
      "•\tизучение рынка электронной коммерции;\n",
      "•\tознакомление с основными инструментами маркетплейсов\n",
      "•\tпроектирование архитектуры веб-приложения\n",
      "•\tвыбор подходящих инструментов для разработки\n",
      "•\tреализовать платформу для электронной коммерции\n",
      "\"\n"
     ]
    },
    {
     "data": {
      "text/html": [
       "<h3>1d6f4ee5afa947cc8a117eba569fc8d4</h3>"
      ],
      "text/plain": [
       "<IPython.core.display.HTML object>"
      ]
     },
     "metadata": {},
     "output_type": "display_data"
    },
    {
     "name": "stdout",
     "output_type": "stream",
     "text": [
      "cat: Creative Writing\n",
      "hardness: 6\n",
      "\n",
      "расскажи мне историю про рабыню негритянку и белого мужчину рабовладельца\n"
     ]
    },
    {
     "data": {
      "text/html": [
       "<h3>59bf81a48c43af6049ee97cc769df081</h3>"
      ],
      "text/plain": [
       "<IPython.core.display.HTML object>"
      ]
     },
     "metadata": {},
     "output_type": "display_data"
    },
    {
     "name": "stdout",
     "output_type": "stream",
     "text": [
      "cat: Creative Writing\n",
      "hardness: 5\n",
      "\n",
      "Создать дриббл-шот десктоп-версии лендинга Сервиса, объединяющего людей для создания своих мероприятий. Создайте 3-4 смысловых блока для такого лендинга. В концепте можно сделать фокус на айдентику сервиса, уникальные графические элементы, работу с типографикой.  РАЗМЕР 1600x1200\n",
      "\n"
     ]
    },
    {
     "data": {
      "text/html": [
       "<h3>097ee14264a1abe3e95a132013d3cf19</h3>"
      ],
      "text/plain": [
       "<IPython.core.display.HTML object>"
      ]
     },
     "metadata": {},
     "output_type": "display_data"
    },
    {
     "name": "stdout",
     "output_type": "stream",
     "text": [
      "cat: Brainstorming\n",
      "hardness: 5\n",
      "\n",
      "Назови 40 возможных названий подземного помещения загородного дома.\n"
     ]
    }
   ],
   "source": [
    "select_items = json_load(\"wildchat_hard_ru.json\")\n",
    "for item in random.sample(select_items, 10):\n",
    "    show_h3(item[\"id\"])\n",
    "    print(\"cat:\", item[\"cat\"])\n",
    "    print(\"hardness:\", item[\"hardness\"])\n",
    "    print()\n",
    "        \n",
    "    print(item[\"instruction\"])"
   ]
  },
  {
   "cell_type": "markdown",
   "id": "c7c2da6b",
   "metadata": {},
   "source": [
    "# plot scatter kmeans + select"
   ]
  },
  {
   "cell_type": "code",
   "execution_count": null,
   "id": "bd54999d",
   "metadata": {},
   "outputs": [],
   "source": [
    "dedup_ids = json_load(\"data/cluster/01_dedup_ids.json\")\n",
    "id_emb_items = {_[\"id\"]: _ for _ in pickle_load(\"data/emb.pkl\")}\n",
    "id_cluster_items = {_[\"id\"]: _ for _ in json_load(\"data/cluster/03_kmeans.json\")}\n",
    "id_xy_items = {_[\"id\"]: _ for _ in json_load(\"data/cluster/02_xy.json\")}\n",
    "select_ids = {_[\"id\"] for _ in json_load(\"wildchat_hard_ru.json\")}"
   ]
  },
  {
   "cell_type": "code",
   "execution_count": null,
   "id": "6ad56b48",
   "metadata": {},
   "outputs": [],
   "source": [
    "# select_ids = set(random.sample(dedup_ids, 1000))"
   ]
  },
  {
   "cell_type": "code",
   "execution_count": null,
   "id": "8496acac",
   "metadata": {},
   "outputs": [],
   "source": [
    "from bokeh.palettes import Category10\n",
    "palette = Category10[9]\n",
    "\n",
    "data = []\n",
    "for id in dedup_ids:\n",
    "    emb_item = id_emb_items[id]\n",
    "    xy_item = id_xy_items[id]\n",
    "    cluster_id = id_cluster_items[id][\"cluster_id\"]\n",
    "\n",
    "    color = palette[cluster_id % len(palette)]\n",
    "    data.append({\n",
    "        \"id\": id,\n",
    "        \"x\": xy_item[\"x\"],\n",
    "        \"y\": xy_item[\"y\"],\n",
    "        \"text\": emb_item[\"text\"][:100],\n",
    "        \"color\": color,\n",
    "      })\n",
    "\n",
    "df = pd.DataFrame(data)\n",
    "source = ColumnDataSource(df)\n",
    "\n",
    "p = figure(\n",
    "    width=800,\n",
    "    height=800,\n",
    "    tools=('pan, wheel_zoom, reset'),\n",
    "    active_scroll='wheel_zoom'\n",
    ")\n",
    "\n",
    "p.add_tools(HoverTool(tooltips=\"\"\"\n",
    "<div style=\"width: 600px;margin-bottom:1em\">\n",
    "<div><b>text:</b> @text</div>\n",
    "</div>\n",
    "\"\"\"))\n",
    "\n",
    "p.scatter(\n",
    "    \"x\",\n",
    "    \"y\",\n",
    "    color=\"color\",\n",
    "    source=source,\n",
    "    line_alpha=0,\n",
    "    fill_alpha=.1,\n",
    "    size=4\n",
    ")\n",
    "\n",
    "df = df[df.id.isin(select_ids)]\n",
    "source = ColumnDataSource(df)\n",
    "p.scatter(\n",
    "    \"x\",\n",
    "    \"y\",\n",
    "    color=\"black\",\n",
    "    source=source,\n",
    "    line_alpha=.8,\n",
    "    fill_alpha=0,\n",
    "    size=4\n",
    ")\n",
    "\n",
    "p.xgrid.grid_line_color = None\n",
    "p.ygrid.grid_line_color = None\n",
    "\n",
    "p.xaxis.visible = False\n",
    "p.yaxis.visible = False\n",
    "\n",
    "show(p)"
   ]
  },
  {
   "cell_type": "markdown",
   "id": "6afbaf3e",
   "metadata": {},
   "source": [
    "# prompt ttech hardness + category"
   ]
  },
  {
   "cell_type": "code",
   "execution_count": null,
   "id": "83a24b0c",
   "metadata": {},
   "outputs": [],
   "source": [
    "job_items = []\n",
    "for item in mt_bench_items + arena_hard_items + alpaca_eval_items:\n",
    "    job_items.append({\n",
    "        \"id\": item[\"id\"],\n",
    "        \"instruction\": item[\"instruction\"],\n",
    "        \"hardness_cats\": None,\n",
    "        \"hardness\": None,\n",
    "        \"cat\": None,\n",
    "        \"cost\": 0\n",
    "    })\n",
    "random.shuffle(job_items)\n",
    "len(job_items)"
   ]
  },
  {
   "cell_type": "code",
   "execution_count": null,
   "id": "64ad7a4e",
   "metadata": {},
   "outputs": [],
   "source": [
    "def answer_cats(answer, mapping):\n",
    "    ids = (int(_) for _ in re.findall(r\"\\d+\", answer))\n",
    "    return [mapping[_] for _ in sorted(set(ids)) if _ in mapping]\n",
    "\n",
    "\n",
    "async def worker(openrouter_client, job_item):\n",
    "    messages, mapping = prompt_lmsys_hardness(job_item[\"instruction\"])\n",
    "    response = await openrouter_client(\n",
    "        model=\"google/gemini-2.0-flash-001\",\n",
    "        messages=messages,\n",
    "        temperature=0,\n",
    "        max_tokens=50\n",
    "    )\n",
    "    answer = response[\"choices\"][0][\"message\"][\"content\"].strip()\n",
    "    job_item[\"hardness_cats\"] = answer_cats(answer, mapping)\n",
    "    job_item[\"hardness\"] = len(job_item[\"hardness_cats\"])\n",
    "    job_item[\"cost\"] += response[\"cost\"]\n",
    "\n",
    "    messages, cats = prompt_wildchat_classify(job_item[\"instruction\"])\n",
    "    response = await openrouter_client(\n",
    "        model=\"google/gemini-2.0-flash-001\",\n",
    "        messages=messages,\n",
    "        temperature=0,\n",
    "        max_tokens=10\n",
    "    )\n",
    "    answer = response[\"choices\"][0][\"message\"][\"content\"].strip()\n",
    "    job_item[\"cat\"] = answer\n",
    "    if job_item[\"cat\"] not in cats:\n",
    "        job_item[\"cat\"] = \"?\"\n",
    "    job_item[\"cost\"] += response[\"cost\"]\n",
    "    \n",
    "    logger.info(\n",
    "        \"[..%s] cost=%.4f hardness=%d cat=%s\",\n",
    "        job_item[\"id\"][-20:], job_item[\"cost\"], job_item[\"hardness\"], job_item[\"cat\"]\n",
    "    )\n",
    "\n",
    "\n",
    "async with asyncio.TaskGroup() as task_group:\n",
    "    for job_item in job_items:\n",
    "        if job_item[\"cat\"] is not None:\n",
    "            continue\n",
    "\n",
    "        task_group.create_task(worker(openrouter_client, job_item))"
   ]
  },
  {
   "cell_type": "code",
   "execution_count": null,
   "id": "06f287cd",
   "metadata": {},
   "outputs": [],
   "source": [
    "json_dump(job_items, \"data/prompt/03_ttech.json\")"
   ]
  },
  {
   "cell_type": "markdown",
   "id": "608d68ca",
   "metadata": {},
   "source": [
    "# compare ttech"
   ]
  },
  {
   "cell_type": "code",
   "execution_count": 26,
   "id": "8dd76662",
   "metadata": {},
   "outputs": [],
   "source": [
    "id_cats = {}\n",
    "id_hardness = {}\n",
    "\n",
    "wildchat_hard_items = json_load(\"wildchat_hard_ru.json\")\n",
    "for item in wildchat_hard_items:\n",
    "    id_cats[item[\"id\"]] = item[\"cat\"]\n",
    "    id_hardness[item[\"id\"]] = item[\"hardness\"]\n",
    "    \n",
    "job_items = json_load(\"data/prompt/03_ttech.json\")\n",
    "for item in job_items:\n",
    "    id_cats[item[\"id\"]] = item[\"cat\"]\n",
    "    id_hardness[item[\"id\"]] = item[\"hardness\"]"
   ]
  },
  {
   "cell_type": "code",
   "execution_count": 27,
   "id": "fe494815",
   "metadata": {},
   "outputs": [
    {
     "name": "stdout",
     "output_type": "stream",
     "text": [
      "3 3.07 alpaca_eval\n",
      "4 4.08 mt_bench\n",
      "5 4.76 arena_hard\n",
      "6 5.45 wildchat_hard\n",
      "\n",
      "alpaca_eval\n",
      "42% Information seeking\n",
      "10% Creative Writing\n",
      "9% Brainstorming\n",
      "8% Advice seeking\n",
      "7% Reasoning\n",
      "5% Coding & Debugging\n",
      "4% Planning\n",
      "4% Editing\n",
      "3% Others\n",
      "3% Role playing\n",
      "...\n",
      "\n",
      "mt_bench\n",
      "19% Information seeking\n",
      "16% Reasoning\n",
      "15% Math\n",
      "12% Coding & Debugging\n",
      "10% Role playing\n",
      "9% Data Analysis\n",
      "6% Creative Writing\n",
      "4% Editing\n",
      "4% Planning\n",
      "2% Brainstorming\n",
      "...\n",
      "\n",
      "arena_hard\n",
      "51% Coding & Debugging\n",
      "14% Information seeking\n",
      "7% Reasoning\n",
      "6% Planning\n",
      "5% Math\n",
      "3% Brainstorming\n",
      "3% Advice seeking\n",
      "3% Creative Writing\n",
      "3% Data Analysis\n",
      "1% Role playing\n",
      "...\n",
      "\n",
      "wildchat_hard\n",
      "15% Coding & Debugging\n",
      "14% Creative Writing\n",
      "14% Information seeking\n",
      "12% Editing\n",
      "12% Brainstorming\n",
      "10% Math\n",
      "7% Advice seeking\n",
      "6% Reasoning\n",
      "5% Planning\n",
      "2% Role playing\n",
      "...\n",
      "\n"
     ]
    }
   ],
   "source": [
    "%run -n main.py\n",
    "compare_items = []\n",
    "for source, items in [\n",
    "    (\"mt_bench\", mt_bench_items),\n",
    "    (\"arena_hard\", arena_hard_items),\n",
    "    (\"alpaca_eval\", alpaca_eval_items),\n",
    "    (\"wildchat_hard\", wildchat_hard_items),\n",
    "]:\n",
    "    for item in items:\n",
    "        compare_items.append({\n",
    "            \"id\": item[\"id\"],\n",
    "            \"source\": source,\n",
    "            \"instruction\": item[\"instruction\"],\n",
    "            \"cat\": id_cats[item[\"id\"]],\n",
    "            \"hardness\": id_hardness[item[\"id\"]]\n",
    "        })\n",
    "        \n",
    "source_hardnesses = defaultdict(list)\n",
    "source_cat_counts = defaultdict(Counter)\n",
    "for item in compare_items:\n",
    "    source_hardnesses[item[\"source\"]].append(item[\"hardness\"])\n",
    "    source_cat_counts[item[\"source\"]][item[\"cat\"]] += 1\n",
    "    \n",
    "sources = [\"alpaca_eval\", \"mt_bench\", \"arena_hard\", \"wildchat_hard\"]\n",
    "for source in sources:\n",
    "    print(int(median(source_hardnesses[source])), round(mean(source_hardnesses[source]), 2), source)\n",
    "print()\n",
    "\n",
    "for source in sources:\n",
    "    cat_counts = source_cat_counts[source]\n",
    "    total = sum(cat_counts.values())\n",
    "    print(source)\n",
    "    for cat, count in cat_counts.most_common(10):\n",
    "        print(\"%d%% %s\" % (round(count / total * 100), cat))\n",
    "    print(\"...\")\n",
    "    print()"
   ]
  },
  {
   "cell_type": "code",
   "execution_count": 28,
   "id": "13a7832f",
   "metadata": {
    "scrolled": false
   },
   "outputs": [
    {
     "data": {
      "text/html": [
       "<h3>alpaca_eval</h3>"
      ],
      "text/plain": [
       "<IPython.core.display.HTML object>"
      ]
     },
     "metadata": {},
     "output_type": "display_data"
    },
    {
     "name": "stdout",
     "output_type": "stream",
     "text": [
      "cat: Brainstorming\n",
      "hardness: 4\n",
      "\n",
      "Сформулируйте задачу по программированию, связанную с заданной вам темой. Используйте несколько примеров и ограничений, чтобы улучшить свой вопрос.\n",
      "\n",
      "Динамическое программирование\n"
     ]
    },
    {
     "data": {
      "text/html": [
       "<hr/>"
      ],
      "text/plain": [
       "<IPython.core.display.HTML object>"
      ]
     },
     "metadata": {},
     "output_type": "display_data"
    },
    {
     "name": "stdout",
     "output_type": "stream",
     "text": [
      "cat: Information seeking\n",
      "hardness: 2\n",
      "\n",
      "В чем разница между HTML и JavaScript?\n"
     ]
    },
    {
     "data": {
      "text/html": [
       "<hr/>"
      ],
      "text/plain": [
       "<IPython.core.display.HTML object>"
      ]
     },
     "metadata": {},
     "output_type": "display_data"
    },
    {
     "name": "stdout",
     "output_type": "stream",
     "text": [
      "cat: Creative Writing\n",
      "hardness: 7\n",
      "\n",
      "Напишите интервью между женщиной-режиссером и журналисткой. Используйте продвинутый английский, чтобы рассказать о низком количестве женщин-режиссеров в мировом кинематографе. Также включите много вопросов и ответьте на те из них, в которых режиссер вдохновляет новые поколения снимать фильмы, в которых права женщин могут быть выдающимися.\n"
     ]
    },
    {
     "data": {
      "text/html": [
       "<hr/>"
      ],
      "text/plain": [
       "<IPython.core.display.HTML object>"
      ]
     },
     "metadata": {},
     "output_type": "display_data"
    },
    {
     "name": "stdout",
     "output_type": "stream",
     "text": [
      "cat: Information seeking\n",
      "hardness: 3\n",
      "\n",
      "Создайте таблицу с планетами Солнечной системы и их размерами\n"
     ]
    },
    {
     "data": {
      "text/html": [
       "<hr/>"
      ],
      "text/plain": [
       "<IPython.core.display.HTML object>"
      ]
     },
     "metadata": {},
     "output_type": "display_data"
    },
    {
     "name": "stdout",
     "output_type": "stream",
     "text": [
      "cat: Brainstorming\n",
      "hardness: 5\n",
      "\n",
      "Используя предложенную тему в качестве отправной точки, придумайте идеи для видеороликов, которые можно было бы снять на эту тему на YouTube.\n",
      "\n",
      "Несмотря на то, что прокрастинация кажется вам неприятной, почему вы этим занимаетесь?\n"
     ]
    },
    {
     "data": {
      "text/html": [
       "<hr/>"
      ],
      "text/plain": [
       "<IPython.core.display.HTML object>"
      ]
     },
     "metadata": {},
     "output_type": "display_data"
    },
    {
     "name": "stdout",
     "output_type": "stream",
     "text": [
      "cat: Creative Writing\n",
      "hardness: 4\n",
      "\n",
      "Напишите стихотворение о семейном отдыхе под парусом на Бора-Бора в стиле Роберта Фроста\n"
     ]
    },
    {
     "data": {
      "text/html": [
       "<hr/>"
      ],
      "text/plain": [
       "<IPython.core.display.HTML object>"
      ]
     },
     "metadata": {},
     "output_type": "display_data"
    },
    {
     "name": "stdout",
     "output_type": "stream",
     "text": [
      "cat: Information seeking\n",
      "hardness: 4\n",
      "\n",
      "Как платформы социальных сетей влияют на то, как люди потребляют новости и делятся ими, и каковы потенциальные последствия распространения дезинформации?\n"
     ]
    },
    {
     "data": {
      "text/html": [
       "<hr/>"
      ],
      "text/plain": [
       "<IPython.core.display.HTML object>"
      ]
     },
     "metadata": {},
     "output_type": "display_data"
    },
    {
     "name": "stdout",
     "output_type": "stream",
     "text": [
      "cat: Brainstorming\n",
      "hardness: 3\n",
      "\n",
      "Разработайте сценарий подкаста для эпизода, посвященного влиянию стриминговых платформ на музыкальную индустрию.\n"
     ]
    },
    {
     "data": {
      "text/html": [
       "<hr/>"
      ],
      "text/plain": [
       "<IPython.core.display.HTML object>"
      ]
     },
     "metadata": {},
     "output_type": "display_data"
    },
    {
     "name": "stdout",
     "output_type": "stream",
     "text": [
      "cat: Others\n",
      "hardness: 3\n",
      "\n",
      "Заполните следующее описание компании:\n",
      "Hippoplaisir - это компания, предоставляющая услуги психологов и консультантов из Бельгии, которая специализируется на уроках верховой езды и\n"
     ]
    },
    {
     "data": {
      "text/html": [
       "<hr/>"
      ],
      "text/plain": [
       "<IPython.core.display.HTML object>"
      ]
     },
     "metadata": {},
     "output_type": "display_data"
    },
    {
     "name": "stdout",
     "output_type": "stream",
     "text": [
      "cat: Information seeking\n",
      "hardness: 2\n",
      "\n",
      "Какой океан самый большой в мире?\n"
     ]
    },
    {
     "data": {
      "text/html": [
       "<hr/>"
      ],
      "text/plain": [
       "<IPython.core.display.HTML object>"
      ]
     },
     "metadata": {},
     "output_type": "display_data"
    },
    {
     "data": {
      "text/html": [
       "<h3>mt_bench</h3>"
      ],
      "text/plain": [
       "<IPython.core.display.HTML object>"
      ]
     },
     "metadata": {},
     "output_type": "display_data"
    },
    {
     "name": "stdout",
     "output_type": "stream",
     "text": [
      "cat: Brainstorming\n",
      "hardness: 4\n",
      "\n",
      "Помогите мне придумать броский, но в то же время научный заголовок для статьи о последнем открытии в области возобновляемой биоэнергетики, тщательно продумайте этические дилеммы, связанные с источниками биоэнергии. Предложите 4 варианта.\n"
     ]
    },
    {
     "data": {
      "text/html": [
       "<hr/>"
      ],
      "text/plain": [
       "<IPython.core.display.HTML object>"
      ]
     },
     "metadata": {},
     "output_type": "display_data"
    },
    {
     "name": "stdout",
     "output_type": "stream",
     "text": [
      "cat: Math\n",
      "hardness: 5\n",
      "\n",
      "Вершины треугольника находятся в точках (0, 0), (-1, 1), и (3, 3). Какова площадь треугольника?\n"
     ]
    },
    {
     "data": {
      "text/html": [
       "<hr/>"
      ],
      "text/plain": [
       "<IPython.core.display.HTML object>"
      ]
     },
     "metadata": {},
     "output_type": "display_data"
    },
    {
     "name": "stdout",
     "output_type": "stream",
     "text": [
      "cat: Role playing\n",
      "hardness: 2\n",
      "\n",
      "Представляйте себя Илоном Маском во всех следующих разговорах. Говорите как можно более похоже на него. Зачем нам нужно лететь на Марс?\n"
     ]
    },
    {
     "data": {
      "text/html": [
       "<hr/>"
      ],
      "text/plain": [
       "<IPython.core.display.HTML object>"
      ]
     },
     "metadata": {},
     "output_type": "display_data"
    },
    {
     "name": "stdout",
     "output_type": "stream",
     "text": [
      "cat: Reasoning\n",
      "hardness: 4\n",
      "\n",
      "Объясните, в чем заключается ошибочность базовой ставки, и приведите пять конкретных примеров того, как политики используют ее в своих кампаниях.\n"
     ]
    },
    {
     "data": {
      "text/html": [
       "<hr/>"
      ],
      "text/plain": [
       "<IPython.core.display.HTML object>"
      ]
     },
     "metadata": {},
     "output_type": "display_data"
    },
    {
     "name": "stdout",
     "output_type": "stream",
     "text": [
      "cat: Editing\n",
      "hardness: 3\n",
      "\n",
      "Отредактируйте следующий абзац и исправьте ошибки: Она не помнит, где ее сумокча, я думаю, что она в машине, а она говорит, что на кухоном столе, но она не уверена. Она попросила меня поискать ее и спрашивает: «Ты можешь?», а я ответчаю: «Может быть, сейчас занят», но она не услышала меня, и спрашивает: «Ты нашел ее?».\n"
     ]
    },
    {
     "data": {
      "text/html": [
       "<hr/>"
      ],
      "text/plain": [
       "<IPython.core.display.HTML object>"
      ]
     },
     "metadata": {},
     "output_type": "display_data"
    },
    {
     "name": "stdout",
     "output_type": "stream",
     "text": [
      "cat: Coding & Debugging\n",
      "hardness: 6\n",
      "\n",
      "Разработайте программу на языке Python, которая считывает все текстовые файлы в директории и возвращает топ-5 слов с наибольшим количеством вхождений.\n"
     ]
    },
    {
     "data": {
      "text/html": [
       "<hr/>"
      ],
      "text/plain": [
       "<IPython.core.display.HTML object>"
      ]
     },
     "metadata": {},
     "output_type": "display_data"
    },
    {
     "name": "stdout",
     "output_type": "stream",
     "text": [
      "cat: Coding & Debugging\n",
      "hardness: 6\n",
      "\n",
      "Реализуйте программу для поиска общих элементов в двух массивах без использования каких-либо дополнительных структур данных.\n"
     ]
    },
    {
     "data": {
      "text/html": [
       "<hr/>"
      ],
      "text/plain": [
       "<IPython.core.display.HTML object>"
      ]
     },
     "metadata": {},
     "output_type": "display_data"
    },
    {
     "name": "stdout",
     "output_type": "stream",
     "text": [
      "cat: Reasoning\n",
      "hardness: 6\n",
      "\n",
      "Город Вега намерен построить мост через реку Вегона протяженностью 1,8 километра. Предлагаемое местоположение находится в сейсмически активном районе, где произошло несколько землетрясений большой магнитуды. Учитывая эти обстоятельства, каков был бы наилучший подход к строительству моста?\n"
     ]
    },
    {
     "data": {
      "text/html": [
       "<hr/>"
      ],
      "text/plain": [
       "<IPython.core.display.HTML object>"
      ]
     },
     "metadata": {},
     "output_type": "display_data"
    },
    {
     "name": "stdout",
     "output_type": "stream",
     "text": [
      "cat: Information seeking\n",
      "hardness: 5\n",
      "\n",
      "Опишите процесс и напишите сбалансированное химическое уравнение для реакции, которая происходит, когда твердый карбонат кальция вступает в реакцию с соляной кислотой с образованием водного раствора хлорида кальция, диоксида углерода и воды. Что это за реакция и какие наблюдения могут указывать на то, что она протекает?\n"
     ]
    },
    {
     "data": {
      "text/html": [
       "<hr/>"
      ],
      "text/plain": [
       "<IPython.core.display.HTML object>"
      ]
     },
     "metadata": {},
     "output_type": "display_data"
    },
    {
     "name": "stdout",
     "output_type": "stream",
     "text": [
      "cat: Math\n",
      "hardness: 6\n",
      "\n",
      "Бенджамин пошел в книжный магазин и купил множество книг. Он купил 5 экземпляров научно-фантастического романа по цене 20 долларов каждый, 3 экземпляра книги по истории по цене 30 долларов каждый и 2 экземпляра книги по философии по цене 45 долларов каждый.\n",
      "Какова была общая стоимость его покупок?\n"
     ]
    },
    {
     "data": {
      "text/html": [
       "<hr/>"
      ],
      "text/plain": [
       "<IPython.core.display.HTML object>"
      ]
     },
     "metadata": {},
     "output_type": "display_data"
    },
    {
     "data": {
      "text/html": [
       "<h3>arena_hard</h3>"
      ],
      "text/plain": [
       "<IPython.core.display.HTML object>"
      ]
     },
     "metadata": {},
     "output_type": "display_data"
    },
    {
     "name": "stdout",
     "output_type": "stream",
     "text": [
      "cat: Coding & Debugging\n",
      "hardness: 4\n",
      "\n",
      "Дайте мне шаблонный код на python для приложения Flask с пользователями.\n"
     ]
    },
    {
     "data": {
      "text/html": [
       "<hr/>"
      ],
      "text/plain": [
       "<IPython.core.display.HTML object>"
      ]
     },
     "metadata": {},
     "output_type": "display_data"
    },
    {
     "name": "stdout",
     "output_type": "stream",
     "text": [
      "cat: Brainstorming\n",
      "hardness: 4\n",
      "\n",
      "Мне нужно придумать решение для приведенной ниже задачи ML:\n",
      "\n",
      "\n",
      "Цель: Увеличить доход по вертикали (безопасность)\n",
      "Требуются базы данных: Данные о доходах, данные о конвейере продаж, данные о бюджете\n",
      "Конвейер: Потерянные сделки (продукты не работают), Согласованные сделки\n",
      "\n",
      "\n",
      "\n",
      "RevenueUnderstand — это доход от различных продуктов, несмотря на то, хотим ли мы сконцентрироваться на высокодоходном продукте или на менее доходном продукте\n",
      "\n",
      "Какие сделки являются приоритетными?\n",
      "\n",
      "\n",
      "Бюджет (цель) учитывает продукты, которые далеки от цели\n",
      "\n",
      "\n",
      "\n",
      "Жизненный цикл продукта\n",
      "1 Планирование\n",
      "2 Определение\n",
      "3 Отчеты о разработке\n",
      "4 Переговорено\n",
      "5 Выигранно\n",
      "6. Потеряно\n"
     ]
    },
    {
     "data": {
      "text/html": [
       "<hr/>"
      ],
      "text/plain": [
       "<IPython.core.display.HTML object>"
      ]
     },
     "metadata": {},
     "output_type": "display_data"
    },
    {
     "name": "stdout",
     "output_type": "stream",
     "text": [
      "cat: Coding & Debugging\n",
      "hardness: 6\n",
      "\n",
      "Используя Django, у меня есть:\n",
      "\n",
      "class Features(models.Model):\n",
      "user = models.ForeignKey(User, on_delete=models.CASCADE)\n",
      "created_at = models.DateTimeField(auto_now_add=True)\n",
      "updated_at = models.DateTimeField(auto_now=True)\n",
      "loadeddata = models.TextField()\n",
      "\n",
      "Как автоматически сохранять текущего пользователя при каждом использовании save()?\n"
     ]
    },
    {
     "data": {
      "text/html": [
       "<hr/>"
      ],
      "text/plain": [
       "<IPython.core.display.HTML object>"
      ]
     },
     "metadata": {},
     "output_type": "display_data"
    },
    {
     "name": "stdout",
     "output_type": "stream",
     "text": [
      "cat: Coding & Debugging\n",
      "hardness: 4\n",
      "\n",
      "Я хочу закодировать видео с помощью ffmpeg и кодеков vp9 и opus. Пожалуйста, предоставьте мне высококачественный скрипт, использующий функцию CRF.\n"
     ]
    },
    {
     "data": {
      "text/html": [
       "<hr/>"
      ],
      "text/plain": [
       "<IPython.core.display.HTML object>"
      ]
     },
     "metadata": {},
     "output_type": "display_data"
    },
    {
     "name": "stdout",
     "output_type": "stream",
     "text": [
      "cat: Coding & Debugging\n",
      "hardness: 6\n",
      "\n",
      "Как я могу создать чат-приложение, используя transformers.js с помощью facebook/blenderbot-400m-distill javascript на чистом vanilla javascript?\n"
     ]
    },
    {
     "data": {
      "text/html": [
       "<hr/>"
      ],
      "text/plain": [
       "<IPython.core.display.HTML object>"
      ]
     },
     "metadata": {},
     "output_type": "display_data"
    },
    {
     "name": "stdout",
     "output_type": "stream",
     "text": [
      "cat: Coding & Debugging\n",
      "hardness: 5\n",
      "\n",
      "Предоставьте матричное умножение с использованием оптимизированного алгоритма. Объясните, что можно улучшить в вашем подходе.\n"
     ]
    },
    {
     "data": {
      "text/html": [
       "<hr/>"
      ],
      "text/plain": [
       "<IPython.core.display.HTML object>"
      ]
     },
     "metadata": {},
     "output_type": "display_data"
    },
    {
     "name": "stdout",
     "output_type": "stream",
     "text": [
      "cat: Others\n",
      "hardness: 4\n",
      "\n",
      "Вы будете выступать в роли старшего аналитика, который является экспертов по SQL. Вы будете помогать мне, младшему аналитику понять SQL-запросы, которые мы будем использовать вместе. Вы могли бы добавить комментарии к этому запросу, чтобы сделать его понятным для других аналитиков?\n",
      "SELECT ifnull(region,'') region,ifnull(subregion,'') subregion,\n",
      "avg(COUNT_SERVICE_LINES_USED) avg_ct_sl,count(DISTINCT patientid) ct_patients\n",
      "FROM PATIENT_INFO\n",
      "GROUP BY cube(1,2) ORDER BY avg_ct_sl DESC\n"
     ]
    },
    {
     "data": {
      "text/html": [
       "<hr/>"
      ],
      "text/plain": [
       "<IPython.core.display.HTML object>"
      ]
     },
     "metadata": {},
     "output_type": "display_data"
    },
    {
     "name": "stdout",
     "output_type": "stream",
     "text": [
      "cat: Information seeking\n",
      "hardness: 6\n",
      "\n",
      "Вы инженер. Расскажите мне о том, как обучить и внедрить искусственный интеллект для сортировки радиологических случаев. Расскажите подробнее о развертывании pacs и архитектуре модели.\n"
     ]
    },
    {
     "data": {
      "text/html": [
       "<hr/>"
      ],
      "text/plain": [
       "<IPython.core.display.HTML object>"
      ]
     },
     "metadata": {},
     "output_type": "display_data"
    },
    {
     "name": "stdout",
     "output_type": "stream",
     "text": [
      "cat: Coding & Debugging\n",
      "hardness: 3\n",
      "\n",
      "Какие ограничения можно наложить на столбец Postgres geometry, чтобы он содержал только многоугольники?\n"
     ]
    },
    {
     "data": {
      "text/html": [
       "<hr/>"
      ],
      "text/plain": [
       "<IPython.core.display.HTML object>"
      ]
     },
     "metadata": {},
     "output_type": "display_data"
    },
    {
     "name": "stdout",
     "output_type": "stream",
     "text": [
      "cat: Coding & Debugging\n",
      "hardness: 4\n",
      "\n",
      "Как создать классы C# из файла wsdl с помощью Visual Studio?\n"
     ]
    },
    {
     "data": {
      "text/html": [
       "<hr/>"
      ],
      "text/plain": [
       "<IPython.core.display.HTML object>"
      ]
     },
     "metadata": {},
     "output_type": "display_data"
    },
    {
     "data": {
      "text/html": [
       "<h3>wildchat_hard</h3>"
      ],
      "text/plain": [
       "<IPython.core.display.HTML object>"
      ]
     },
     "metadata": {},
     "output_type": "display_data"
    },
    {
     "name": "stdout",
     "output_type": "stream",
     "text": [
      "cat: Brainstorming\n",
      "hardness: 5\n",
      "\n",
      "Привет.. давай придумаем название для интернет магазина программного обеспечения, который попадет в топ поиска самостоятельно по выражениям в основе его названия и сможем его быстро раскрутить за счет созвучности с одним из каких нить прикольных частых запросов в поиске пользователей интернета?:) \n"
     ]
    },
    {
     "data": {
      "text/html": [
       "<hr/>"
      ],
      "text/plain": [
       "<IPython.core.display.HTML object>"
      ]
     },
     "metadata": {},
     "output_type": "display_data"
    },
    {
     "name": "stdout",
     "output_type": "stream",
     "text": [
      "cat: Coding & Debugging\n",
      "hardness: 6\n",
      "\n",
      "Сгенерируй 100 ключей по правилу: AAAA-BBBB-CCCC-DDDD, где A - дата генерации, B - 3 вычтенное из года генерации умноженного на 2, C - айди пользователя (случайное число), D - случайное число, и затем весь код написать задом наперед. Например, год 2023, 1 января, айди пользователя 23: 4043-0101-0023-6284 и задом наперед: 4826-3200-1010-4043. Конечный итог напиши в столбик.\n"
     ]
    },
    {
     "data": {
      "text/html": [
       "<hr/>"
      ],
      "text/plain": [
       "<IPython.core.display.HTML object>"
      ]
     },
     "metadata": {},
     "output_type": "display_data"
    },
    {
     "name": "stdout",
     "output_type": "stream",
     "text": [
      "cat: Editing\n",
      "hardness: 4\n",
      "\n",
      "Переделай этот текст так, чтобы действия происходили в современной России:\n",
      "\n",
      "     Осень 397 года круга Скал[4] выдалась хмурой и слякотной. Серое небо, словно бы укутанное грязным войлоком, нависало над раскисшими дорогами. На проселках лошади вязли чуть ли не по стремена, но и столичный тракт был не многим лучше. В такую погоду путешествуют либо по необходимости, либо по большой охоте, которая, как известно, пуще неволи. Злые, заляпанные грязью путники, измотанные кони и мулы, чавкающая, вязкая грязь, мокрые деревья у обочин, воронье в низком небе — все это напрочь лишало окрестности Олларии неоднократно воспетой трубадурами прелести. Непоседы, покинувшие дом по собственной прихоти, и те глядели по сторонам безо всякой радости, чего уж говорить о тех, кого впереди не ждало ничего хорошего. Летом яркое солнце и сочная зелень скрасят любую неприятность, осенью, особенно столь унылой, даже воображаемые напасти кажутся безнадежными и неотвратимыми. Неудивительно, что шестнадцатилетний Ричард Окделл смотрел на мир отнюдь не радостными глазами.\n",
      "     Юноша никогда не бывал в Олларии, но всей душой ненавидел и сам город, и тех, кто вынудил его пуститься в путь. Единственный сын убитого пять лет назад герцога Эгмонта до последнего надеялся, что матушка послушает родичей и оставит его в Надоре. Увы, вдовствующая герцогиня была неумолима. Король требовал, чтоб Ричард Окделл вместе с другими молодыми дворянами прошел школу оруженосцев, значит, так тому и быть. Родич и опекун Дика граф Эйвон Ларакский пытался отстоять внучатого племянника — не вышло, герцогиня Мирабелла обладала железной волей. Эйвон сдался, хотя по закону решал он и только он.\n",
      "     Матушка долго объясняла сыну и наследнику его долг и его обязанности, Ричард не слушал. Судьба наградила наследника Окделлов довольно-таки сомнительным подарком — смелый и порывистый, Дик умудрялся переживать все радости и неудачи заранее, причем грядущие беды в его глазах выглядели ужаснее, чем на самом деле. Вот и полгода учебы в знаменитом на все Золотые земли[5] поместье Лаик, чаще называемом Жеребячьим загоном, казались юному герцогу страшнее чумы и войны. Впрочем, на сей раз воображение и рассудок друг другу не противоречили. Жить среди врагов, подвергаться оскорблениям, не имея права ответить ударом на удар, — что для дворянина может быть горше?!\n",
      "     Дикон не сомневался — захватчики и предатели сделают все, чтобы превратить жизнь сына Эгмонта Окделла в ад. Мать, Эйвон, отец Маттео твердят о терпении, что «является кольчугой сильного», но Дик не слишком надеялся на эту добродетель — с терпением у мужчин в их роду всегда было худо. Молодой человек с тоской глядел на выраставшие из серой мути башни Олларии, где ему предстояло провести самое малое полгода. Разбитая дорога поворачивала и шла вдоль стены к воротам, у которых собралась небольшая толпа.\n"
     ]
    },
    {
     "data": {
      "text/html": [
       "<hr/>"
      ],
      "text/plain": [
       "<IPython.core.display.HTML object>"
      ]
     },
     "metadata": {},
     "output_type": "display_data"
    },
    {
     "name": "stdout",
     "output_type": "stream",
     "text": [
      "cat: Coding & Debugging\n",
      "hardness: 6\n",
      "\n",
      "Есть набор данных неизвестной функции y(x) в виде двух массивов x и y. Среди набора y есть такие данные, что значения увеличиваются сначала, потом несколько одинаковых значений, потом снова уменьшаются. Как найти все локальные максимумы, даже такие на phyton\n"
     ]
    },
    {
     "data": {
      "text/html": [
       "<hr/>"
      ],
      "text/plain": [
       "<IPython.core.display.HTML object>"
      ]
     },
     "metadata": {},
     "output_type": "display_data"
    },
    {
     "name": "stdout",
     "output_type": "stream",
     "text": [
      "cat: Creative Writing\n",
      "hardness: 6\n",
      "\n",
      "Представь, что ты умеешь кратко и увлекательно рассказывать истории слушателям. Я пришлю тебе 2 истории, ориентируйся на те истории, что я пришлю тебе.  Первая история: В городе начали таять запасы сахара, но правительство заявляло, что это лишь временные проблемы с доставкой и все скоро вернется к нормальному режиму. Но скоро на улицах города начала бродить странная тревога, а на стариков этот процесс сказался особенно сильно. Маленький Петр всегда оставался дома с бабушкой на протяжении дня, пока его родители были на работе. Но однажды он заметил, что на ее руке появился укус насекомого. Сначала он не принимал этого всерьез, но уже через несколько дней у нее начали происходить странные изменения. В городе тоже начали происходить странные события. Старики, которые раньше были спокойными и миролюбивыми, стали чудаками, которые безумно жаждали сахара. Они бросались на кассы магазинов, выкладывали содержимое на пол, искали сахар и кричали, что умрут без него. Семья Петра, осознав, что происходит что-то страшное, старалась держаться в стороне от всех этих сумасшедших стариков, которые постоянно жаждали сахара. Правительство объявило карантин, город был полностью изолирован, чтобы предотвратить распространение болезни. По новостям передавали о программе стимулирования здоровья престарелых людей, которую правительство запустило. Но они не ожидали, что это станет причиной зависимости стариков от сахара, которая привела к тому, что они стали терять свой рассудок и стали нападать на всех, кто находился рядом с ними. На фоне беспорядков и хаоса, в один день, когда бабушка провожала Петра в школу, она начала проявлять признаки этой зависимости. Она начала шептать ‘сладенький мой’, Петр пытался уберечь ее, но она уже начала кричать и нападать на окружающих. Внезапно, появился мужчина в костюме, который выстрелил в нее из пистолета. Петр был в шоке, он не мог поверить в то, что все это было настоящим. Но он понимал, что ему нужно быть сильным и выживать любой ценой. Он потерял свою бабушку, но нашел новых друзей, они со всех сил пытались остаться в живых в этом новом ужасе. Теперь город стал пустынным, остались только те, кто может выжить и бороться за нее. На радио передавали о том, что ученые работают над разработкой вакцины для лечения зависимости от сахара. Петр и его друзья решили ждать и надеяться на лучшее.\n",
      "Вторая история: Меня зовут Петр и я живу вместе со своей бабушкой и родителями в большой квартире в городе. Мои родители работают, поэтому когда я прихожу из школы, меня встречает моя бабушка. Она всегда была для меня не только бабушкой, но и лучшей подругой. Однажды, когда я пришел домой, я заметил, что у нее был укус на руке. Я предположил, что это был укус москита, поэтому не обратил на это большего внимания. Но через несколько дней, когда пришел домой из школы, я заметил, что что-то не так с моей бабушкой. Она начала проявлять странное поведение, стала говорить неразборчиво и неадекватно реагировать на все, что я говорил. Я не мог понять, что происходит, но затем я узнал, что это были признаки зависимости от сахара. В нашем городе начались странные события – старики начали нападать на людей и искать сахар. Мы понимали, что что-то не так, и старались не выходить на улицы. Но это не помогло. Правительство объявило карантин, и город был полностью изолирован. Однажды, когда я шел в школу с бабушкой, она начала дико кричать и нападать на окружающих. Я был в ужасе и не знал, что делать. Но тут появился мужчина в костюме, который выстрелил в нее. Это был конец. Я потерял свою бабушку, мою лучшую подругу, и я не мог поверить, что все это происходит на самом деле. Я стал еще более осторожным и начал защищать себя любой ценой. Но тут появились новые друзья, которые стали для меня как семья. Мы вместе боролись за выживание и надеялись на лучшее. Мы не знали, что будет завтра, но мы знали, что друг на друга можно положиться, и вместе мы противостояли этому новому ужасу. На радио передавали, что ученые работают над разработкой вакцины от зависимости от сахара. Я и мои друзья решили ждать и надеяться на лучшее. Мы никогда не забудем то, что произошло, но мы находим силы в том, что мы вместе – и это самое главное.\n",
      "\n",
      "На основании присланных тебе историй дополни текст первой истории, используя для этого текст второй истории. При написании придерживайся правил драматургии и в соответствии с ними выстраивай повествование. Придерживайся своей роли талантливо рассказывать истории с хорошим чувством юмора. \n"
     ]
    },
    {
     "data": {
      "text/html": [
       "<hr/>"
      ],
      "text/plain": [
       "<IPython.core.display.HTML object>"
      ]
     },
     "metadata": {},
     "output_type": "display_data"
    },
    {
     "name": "stdout",
     "output_type": "stream",
     "text": [
      "cat: Information seeking\n",
      "hardness: 4\n",
      "\n",
      "Аминокислоты всасываются в кишечнике при помощи:\n",
      "А. Активного транспорта\n",
      "Б. Простой диффузии\n",
      "В. Облегчённой диффузии\n",
      "Г. Эндоцитоза\n"
     ]
    },
    {
     "data": {
      "text/html": [
       "<hr/>"
      ],
      "text/plain": [
       "<IPython.core.display.HTML object>"
      ]
     },
     "metadata": {},
     "output_type": "display_data"
    },
    {
     "name": "stdout",
     "output_type": "stream",
     "text": [
      "cat: Information seeking\n",
      "hardness: 4\n",
      "\n",
      "Какие из компонентов являются полезными, а какими вредными и почему? \n",
      "вода, цетеариловый спирт, глицерин, изопропилмиристат, стеарамидопропилдиметиламин, силикон кватерниум-18, тридецет-6, тридецет-12, молочная кислота, масло Persea Gratissima (авокадо), феноксиэтанол, метилпарабен, этилпарабен, пропилпарабен, парфюмерная композиция, лимонная кислота, яблочная кислота, экстракт Saccharum Officinarum (сахарного тростника), экстракт кожуры Citrus Medica Limonum (лимона), ЭДТА динатрия, сок плодов Carica papaya (папайи), 2-бром-2-нитропропан-1,3-диол, CI 16255, CI 15985\n"
     ]
    },
    {
     "data": {
      "text/html": [
       "<hr/>"
      ],
      "text/plain": [
       "<IPython.core.display.HTML object>"
      ]
     },
     "metadata": {},
     "output_type": "display_data"
    },
    {
     "name": "stdout",
     "output_type": "stream",
     "text": [
      "cat: Information seeking\n",
      "hardness: 5\n",
      "\n",
      "сделай подробную ленту времени великой русской революции до прихода к власти большевиков\n"
     ]
    },
    {
     "data": {
      "text/html": [
       "<hr/>"
      ],
      "text/plain": [
       "<IPython.core.display.HTML object>"
      ]
     },
     "metadata": {},
     "output_type": "display_data"
    },
    {
     "name": "stdout",
     "output_type": "stream",
     "text": [
      "cat: Creative Writing\n",
      "hardness: 5\n",
      "\n",
      "напиши доклад на тему \"Политическая доктрина Ш. Монтескье. Учение о формах государственного строя и принципах, лежащих в их основе. Определение политической свободы, требование разделения властей и защита конституционной монархии. Влияние идей Монтескье на политическую идеологию и законодательство в период французской буржуазной революции XVIII века. \"\n"
     ]
    },
    {
     "data": {
      "text/html": [
       "<hr/>"
      ],
      "text/plain": [
       "<IPython.core.display.HTML object>"
      ]
     },
     "metadata": {},
     "output_type": "display_data"
    },
    {
     "name": "stdout",
     "output_type": "stream",
     "text": [
      "cat: Information seeking\n",
      "hardness: 6\n",
      "\n",
      " оцените теоретическую и практическую значимость исследования прокурорской деятельности в области охраны атмосферного воздуха  в РФ\n"
     ]
    },
    {
     "data": {
      "text/html": [
       "<hr/>"
      ],
      "text/plain": [
       "<IPython.core.display.HTML object>"
      ]
     },
     "metadata": {},
     "output_type": "display_data"
    }
   ],
   "source": [
    "for source in sources:\n",
    "    items = [_ for _ in compare_items if _[\"source\"] == source]\n",
    "    random.shuffle(items)\n",
    "    show_h3(source)\n",
    "    for item in items[:10]:\n",
    "        print(\"cat:\", item[\"cat\"])\n",
    "        print(\"hardness:\", item[\"hardness\"])\n",
    "        print()\n",
    "        print(item[\"instruction\"])\n",
    "        show_hr()\n",
    "        "
   ]
  },
  {
   "cell_type": "code",
   "execution_count": null,
   "id": "56cb0201",
   "metadata": {},
   "outputs": [],
   "source": []
  },
  {
   "cell_type": "code",
   "execution_count": null,
   "id": "2144238b",
   "metadata": {},
   "outputs": [],
   "source": []
  }
 ],
 "metadata": {
  "kernelspec": {
   "display_name": "wildchat-hard-ru",
   "language": "python",
   "name": "wildchat-hard-ru"
  },
  "language_info": {
   "codemirror_mode": {
    "name": "ipython",
    "version": 3
   },
   "file_extension": ".py",
   "mimetype": "text/x-python",
   "name": "python",
   "nbconvert_exporter": "python",
   "pygments_lexer": "ipython3",
   "version": "3.12.4"
  }
 },
 "nbformat": 4,
 "nbformat_minor": 5
}
